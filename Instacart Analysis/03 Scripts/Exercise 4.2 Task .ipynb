{
 "cells": [
  {
   "cell_type": "markdown",
   "id": "f05deff1",
   "metadata": {},
   "source": [
    "# Contents\n",
    "\n",
    "- library import\n",
    "- exercise task "
   ]
  },
  {
   "cell_type": "markdown",
   "id": "7ebaa384",
   "metadata": {},
   "source": [
    "# Library Import"
   ]
  },
  {
   "cell_type": "code",
   "execution_count": 1,
   "id": "f1673bcb",
   "metadata": {},
   "outputs": [],
   "source": [
    "# importing libraries\n",
    "import pandas as pd\n",
    "import numpy as np\n",
    "import os"
   ]
  },
  {
   "cell_type": "markdown",
   "id": "01daf88e",
   "metadata": {},
   "source": [
    "# Data Types"
   ]
  },
  {
   "cell_type": "markdown",
   "id": "ce418fac",
   "metadata": {},
   "source": [
    "Question 7: Code 3 different ways to reach a result of 100"
   ]
  },
  {
   "cell_type": "code",
   "execution_count": 43,
   "id": "6299f8cf",
   "metadata": {},
   "outputs": [],
   "source": [
    "v= 5\n",
    "x= 10\n",
    "y= 4\n",
    "z= 25"
   ]
  },
  {
   "cell_type": "code",
   "execution_count": 7,
   "id": "520b08c1",
   "metadata": {},
   "outputs": [
    {
     "data": {
      "text/plain": [
       "100"
      ]
     },
     "execution_count": 7,
     "metadata": {},
     "output_type": "execute_result"
    }
   ],
   "source": [
    "x*x"
   ]
  },
  {
   "cell_type": "code",
   "execution_count": 8,
   "id": "73832243",
   "metadata": {},
   "outputs": [
    {
     "data": {
      "text/plain": [
       "100"
      ]
     },
     "execution_count": 8,
     "metadata": {},
     "output_type": "execute_result"
    }
   ],
   "source": [
    "z*y"
   ]
  },
  {
   "cell_type": "code",
   "execution_count": 10,
   "id": "c5ba42f5",
   "metadata": {},
   "outputs": [
    {
     "data": {
      "text/plain": [
       "100"
      ]
     },
     "execution_count": 10,
     "metadata": {},
     "output_type": "execute_result"
    }
   ],
   "source": [
    "x*v + z*2"
   ]
  },
  {
   "cell_type": "markdown",
   "id": "e450b5a7",
   "metadata": {},
   "source": [
    "Question 8: Code 2 floating point variables"
   ]
  },
  {
   "cell_type": "code",
   "execution_count": 30,
   "id": "753c8314",
   "metadata": {},
   "outputs": [],
   "source": [
    "t= 2.19\n",
    "u= 5.74"
   ]
  },
  {
   "cell_type": "code",
   "execution_count": 31,
   "id": "1b93972b",
   "metadata": {},
   "outputs": [
    {
     "data": {
      "text/plain": [
       "2.6210045662100456"
      ]
     },
     "execution_count": 31,
     "metadata": {},
     "output_type": "execute_result"
    }
   ],
   "source": [
    "u/t"
   ]
  },
  {
   "cell_type": "markdown",
   "id": "97b013c8",
   "metadata": {},
   "source": [
    "Question 9: Construct a string using concatenation"
   ]
  },
  {
   "cell_type": "code",
   "execution_count": 13,
   "id": "406bdb3c",
   "metadata": {},
   "outputs": [],
   "source": [
    "a = 'Hello '\n",
    "b = 'Gunjan!'\n",
    "c = ' :) '"
   ]
  },
  {
   "cell_type": "code",
   "execution_count": 14,
   "id": "9ef8258a",
   "metadata": {},
   "outputs": [
    {
     "data": {
      "text/plain": [
       "'Hello Gunjan! :) '"
      ]
     },
     "execution_count": 14,
     "metadata": {},
     "output_type": "execute_result"
    }
   ],
   "source": [
    "a+b+c"
   ]
  },
  {
   "cell_type": "markdown",
   "id": "9a8e8f81",
   "metadata": {},
   "source": [
    "Question 10: Construct 2 short sentences"
   ]
  },
  {
   "cell_type": "code",
   "execution_count": 17,
   "id": "1e8b2cb3",
   "metadata": {},
   "outputs": [],
   "source": [
    "d= 'Python isnt too daunting so far. '\n",
    "e= 'We will see what the future exercises have in store though!'"
   ]
  },
  {
   "cell_type": "code",
   "execution_count": 18,
   "id": "04889db1",
   "metadata": {},
   "outputs": [
    {
     "data": {
      "text/plain": [
       "'Python isnt too daunting so far. We will see what the future exercises have in store though!'"
      ]
     },
     "execution_count": 18,
     "metadata": {},
     "output_type": "execute_result"
    }
   ],
   "source": [
    "d+e"
   ]
  },
  {
   "cell_type": "markdown",
   "id": "6cd58512",
   "metadata": {},
   "source": [
    "Bonus Task: 100 bottles of beer on the wall"
   ]
  },
  {
   "cell_type": "code",
   "execution_count": 39,
   "id": "d1f11041",
   "metadata": {},
   "outputs": [],
   "source": [
    "f= 'bottles of beer on the wall '"
   ]
  },
  {
   "cell_type": "code",
   "execution_count": 41,
   "id": "39ce8b12",
   "metadata": {},
   "outputs": [],
   "source": [
    "g=100"
   ]
  },
  {
   "cell_type": "code",
   "execution_count": 42,
   "id": "cb4683f9",
   "metadata": {},
   "outputs": [
    {
     "data": {
      "text/plain": [
       "'bottles of beer on the wall bottles of beer on the wall bottles of beer on the wall bottles of beer on the wall bottles of beer on the wall bottles of beer on the wall bottles of beer on the wall bottles of beer on the wall bottles of beer on the wall bottles of beer on the wall bottles of beer on the wall bottles of beer on the wall bottles of beer on the wall bottles of beer on the wall bottles of beer on the wall bottles of beer on the wall bottles of beer on the wall bottles of beer on the wall bottles of beer on the wall bottles of beer on the wall bottles of beer on the wall bottles of beer on the wall bottles of beer on the wall bottles of beer on the wall bottles of beer on the wall bottles of beer on the wall bottles of beer on the wall bottles of beer on the wall bottles of beer on the wall bottles of beer on the wall bottles of beer on the wall bottles of beer on the wall bottles of beer on the wall bottles of beer on the wall bottles of beer on the wall bottles of beer on the wall bottles of beer on the wall bottles of beer on the wall bottles of beer on the wall bottles of beer on the wall bottles of beer on the wall bottles of beer on the wall bottles of beer on the wall bottles of beer on the wall bottles of beer on the wall bottles of beer on the wall bottles of beer on the wall bottles of beer on the wall bottles of beer on the wall bottles of beer on the wall bottles of beer on the wall bottles of beer on the wall bottles of beer on the wall bottles of beer on the wall bottles of beer on the wall bottles of beer on the wall bottles of beer on the wall bottles of beer on the wall bottles of beer on the wall bottles of beer on the wall bottles of beer on the wall bottles of beer on the wall bottles of beer on the wall bottles of beer on the wall bottles of beer on the wall bottles of beer on the wall bottles of beer on the wall bottles of beer on the wall bottles of beer on the wall bottles of beer on the wall bottles of beer on the wall bottles of beer on the wall bottles of beer on the wall bottles of beer on the wall bottles of beer on the wall bottles of beer on the wall bottles of beer on the wall bottles of beer on the wall bottles of beer on the wall bottles of beer on the wall bottles of beer on the wall bottles of beer on the wall bottles of beer on the wall bottles of beer on the wall bottles of beer on the wall bottles of beer on the wall bottles of beer on the wall bottles of beer on the wall bottles of beer on the wall bottles of beer on the wall bottles of beer on the wall bottles of beer on the wall bottles of beer on the wall bottles of beer on the wall bottles of beer on the wall bottles of beer on the wall bottles of beer on the wall bottles of beer on the wall bottles of beer on the wall bottles of beer on the wall '"
      ]
     },
     "execution_count": 42,
     "metadata": {},
     "output_type": "execute_result"
    }
   ],
   "source": [
    "f*g"
   ]
  }
 ],
 "metadata": {
  "kernelspec": {
   "display_name": "Python 3 (ipykernel)",
   "language": "python",
   "name": "python3"
  },
  "language_info": {
   "codemirror_mode": {
    "name": "ipython",
    "version": 3
   },
   "file_extension": ".py",
   "mimetype": "text/x-python",
   "name": "python",
   "nbconvert_exporter": "python",
   "pygments_lexer": "ipython3",
   "version": "3.9.12"
  }
 },
 "nbformat": 4,
 "nbformat_minor": 5
}
