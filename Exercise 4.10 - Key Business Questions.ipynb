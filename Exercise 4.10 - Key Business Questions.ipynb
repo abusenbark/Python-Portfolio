{
 "cells": [
  {
   "cell_type": "markdown",
   "id": "5d5666ac",
   "metadata": {},
   "source": [
    "## Contents\n",
    "\n",
    "- library and data import\n",
    "- key questions 1 - 5D"
   ]
  },
  {
   "cell_type": "markdown",
   "id": "e69e0d62",
   "metadata": {},
   "source": [
    "## Library and data import"
   ]
  },
  {
   "cell_type": "code",
   "execution_count": 2,
   "id": "c6364580",
   "metadata": {},
   "outputs": [],
   "source": [
    "# library imports\n",
    "\n",
    "import pandas as pd\n",
    "import numpy as np\n",
    "import os\n",
    "import matplotlib.pyplot as plt\n",
    "import seaborn as sns\n",
    "import scipy"
   ]
  },
  {
   "cell_type": "code",
   "execution_count": 3,
   "id": "44a3c832",
   "metadata": {},
   "outputs": [],
   "source": [
    "# create a string for the project folder path\n",
    "\n",
    "path = r'/Users/Ashley/Desktop/Adam/Achievement 4/Instacart Analysis'"
   ]
  },
  {
   "cell_type": "code",
   "execution_count": 4,
   "id": "db7335e7",
   "metadata": {},
   "outputs": [],
   "source": [
    "# import the latest data frame\n",
    "\n",
    "df = pd.read_pickle(os.path.join(path, '02 Data', 'Prepared Data', 'data_4_10.pkl'))"
   ]
  },
  {
   "cell_type": "code",
   "execution_count": 5,
   "id": "dbb94fe3",
   "metadata": {},
   "outputs": [],
   "source": [
    "# allow notebook to show all columns of the data frame\n",
    "\n",
    "pd.set_option('display.max_columns', None)"
   ]
  },
  {
   "cell_type": "code",
   "execution_count": 6,
   "id": "380db27b",
   "metadata": {},
   "outputs": [
    {
     "data": {
      "text/html": [
       "<div>\n",
       "<style scoped>\n",
       "    .dataframe tbody tr th:only-of-type {\n",
       "        vertical-align: middle;\n",
       "    }\n",
       "\n",
       "    .dataframe tbody tr th {\n",
       "        vertical-align: top;\n",
       "    }\n",
       "\n",
       "    .dataframe thead th {\n",
       "        text-align: right;\n",
       "    }\n",
       "</style>\n",
       "<table border=\"1\" class=\"dataframe\">\n",
       "  <thead>\n",
       "    <tr style=\"text-align: right;\">\n",
       "      <th></th>\n",
       "      <th>product_id</th>\n",
       "      <th>product_name</th>\n",
       "      <th>aisle_id</th>\n",
       "      <th>department_id</th>\n",
       "      <th>prices</th>\n",
       "      <th>order_id</th>\n",
       "      <th>user_id</th>\n",
       "      <th>order_number</th>\n",
       "      <th>orders_day_of_week</th>\n",
       "      <th>order_hour_of_day</th>\n",
       "      <th>days_since_prior_order</th>\n",
       "      <th>first_order</th>\n",
       "      <th>add_to_cart_order</th>\n",
       "      <th>reordered</th>\n",
       "      <th>_merge</th>\n",
       "      <th>busiest_day</th>\n",
       "      <th>price_range_loc</th>\n",
       "      <th>busiest_days</th>\n",
       "      <th>busiest_period_of_day</th>\n",
       "      <th>max_order</th>\n",
       "      <th>loyalty_flag</th>\n",
       "      <th>average_price</th>\n",
       "      <th>spending_flag</th>\n",
       "      <th>days_since_median</th>\n",
       "      <th>frequency_flag</th>\n",
       "      <th>first_name</th>\n",
       "      <th>last_name</th>\n",
       "      <th>gender</th>\n",
       "      <th>state</th>\n",
       "      <th>age</th>\n",
       "      <th>date_joined</th>\n",
       "      <th>num_of_dependants</th>\n",
       "      <th>fam_status</th>\n",
       "      <th>income</th>\n",
       "      <th>region</th>\n",
       "      <th>exclusion_flag</th>\n",
       "      <th>age_profile</th>\n",
       "      <th>income_profile</th>\n",
       "      <th>parent_flag</th>\n",
       "      <th>order_profile</th>\n",
       "      <th>customer_profile</th>\n",
       "    </tr>\n",
       "  </thead>\n",
       "  <tbody>\n",
       "    <tr>\n",
       "      <th>0</th>\n",
       "      <td>1</td>\n",
       "      <td>Chocolate Sandwich Cookies</td>\n",
       "      <td>61</td>\n",
       "      <td>19</td>\n",
       "      <td>5.8</td>\n",
       "      <td>3139998</td>\n",
       "      <td>138</td>\n",
       "      <td>28</td>\n",
       "      <td>6</td>\n",
       "      <td>11</td>\n",
       "      <td>3.0</td>\n",
       "      <td>False</td>\n",
       "      <td>5</td>\n",
       "      <td>0</td>\n",
       "      <td>both</td>\n",
       "      <td>Regularly Busy</td>\n",
       "      <td>Mid Range Product</td>\n",
       "      <td>Regular Days</td>\n",
       "      <td>Most Orders</td>\n",
       "      <td>32</td>\n",
       "      <td>Regular Customer</td>\n",
       "      <td>6.935811</td>\n",
       "      <td>Low Spender</td>\n",
       "      <td>8.0</td>\n",
       "      <td>Frequent Customer</td>\n",
       "      <td>Charles</td>\n",
       "      <td>Cox</td>\n",
       "      <td>Male</td>\n",
       "      <td>Minnesota</td>\n",
       "      <td>81</td>\n",
       "      <td>8/1/2019</td>\n",
       "      <td>1</td>\n",
       "      <td>married</td>\n",
       "      <td>49620</td>\n",
       "      <td>Midwest</td>\n",
       "      <td>Normal Activity</td>\n",
       "      <td>Old</td>\n",
       "      <td>Moderate Earner</td>\n",
       "      <td>Parent</td>\n",
       "      <td>None Assigned</td>\n",
       "      <td>Old Moderate Earning Parent</td>\n",
       "    </tr>\n",
       "    <tr>\n",
       "      <th>1</th>\n",
       "      <td>1</td>\n",
       "      <td>Chocolate Sandwich Cookies</td>\n",
       "      <td>61</td>\n",
       "      <td>19</td>\n",
       "      <td>5.8</td>\n",
       "      <td>1977647</td>\n",
       "      <td>138</td>\n",
       "      <td>30</td>\n",
       "      <td>6</td>\n",
       "      <td>17</td>\n",
       "      <td>20.0</td>\n",
       "      <td>False</td>\n",
       "      <td>1</td>\n",
       "      <td>1</td>\n",
       "      <td>both</td>\n",
       "      <td>Regularly Busy</td>\n",
       "      <td>Mid Range Product</td>\n",
       "      <td>Regular Days</td>\n",
       "      <td>Average Orders</td>\n",
       "      <td>32</td>\n",
       "      <td>Regular Customer</td>\n",
       "      <td>6.935811</td>\n",
       "      <td>Low Spender</td>\n",
       "      <td>8.0</td>\n",
       "      <td>Frequent Customer</td>\n",
       "      <td>Charles</td>\n",
       "      <td>Cox</td>\n",
       "      <td>Male</td>\n",
       "      <td>Minnesota</td>\n",
       "      <td>81</td>\n",
       "      <td>8/1/2019</td>\n",
       "      <td>1</td>\n",
       "      <td>married</td>\n",
       "      <td>49620</td>\n",
       "      <td>Midwest</td>\n",
       "      <td>Normal Activity</td>\n",
       "      <td>Old</td>\n",
       "      <td>Moderate Earner</td>\n",
       "      <td>Parent</td>\n",
       "      <td>None Assigned</td>\n",
       "      <td>Old Moderate Earning Parent</td>\n",
       "    </tr>\n",
       "    <tr>\n",
       "      <th>2</th>\n",
       "      <td>907</td>\n",
       "      <td>Premium Sliced Bacon</td>\n",
       "      <td>106</td>\n",
       "      <td>12</td>\n",
       "      <td>20.0</td>\n",
       "      <td>3160996</td>\n",
       "      <td>138</td>\n",
       "      <td>1</td>\n",
       "      <td>5</td>\n",
       "      <td>13</td>\n",
       "      <td>NaN</td>\n",
       "      <td>True</td>\n",
       "      <td>4</td>\n",
       "      <td>0</td>\n",
       "      <td>both</td>\n",
       "      <td>Regularly Busy</td>\n",
       "      <td>High Range Product</td>\n",
       "      <td>Regular Days</td>\n",
       "      <td>Most Orders</td>\n",
       "      <td>32</td>\n",
       "      <td>Regular Customer</td>\n",
       "      <td>6.935811</td>\n",
       "      <td>Low Spender</td>\n",
       "      <td>8.0</td>\n",
       "      <td>Frequent Customer</td>\n",
       "      <td>Charles</td>\n",
       "      <td>Cox</td>\n",
       "      <td>Male</td>\n",
       "      <td>Minnesota</td>\n",
       "      <td>81</td>\n",
       "      <td>8/1/2019</td>\n",
       "      <td>1</td>\n",
       "      <td>married</td>\n",
       "      <td>49620</td>\n",
       "      <td>Midwest</td>\n",
       "      <td>Normal Activity</td>\n",
       "      <td>Old</td>\n",
       "      <td>Moderate Earner</td>\n",
       "      <td>Parent</td>\n",
       "      <td>Meat Eater</td>\n",
       "      <td>Old Moderate Earning Parent</td>\n",
       "    </tr>\n",
       "    <tr>\n",
       "      <th>3</th>\n",
       "      <td>907</td>\n",
       "      <td>Premium Sliced Bacon</td>\n",
       "      <td>106</td>\n",
       "      <td>12</td>\n",
       "      <td>20.0</td>\n",
       "      <td>2254091</td>\n",
       "      <td>138</td>\n",
       "      <td>10</td>\n",
       "      <td>5</td>\n",
       "      <td>14</td>\n",
       "      <td>6.0</td>\n",
       "      <td>False</td>\n",
       "      <td>1</td>\n",
       "      <td>1</td>\n",
       "      <td>both</td>\n",
       "      <td>Regularly Busy</td>\n",
       "      <td>High Range Product</td>\n",
       "      <td>Regular Days</td>\n",
       "      <td>Most Orders</td>\n",
       "      <td>32</td>\n",
       "      <td>Regular Customer</td>\n",
       "      <td>6.935811</td>\n",
       "      <td>Low Spender</td>\n",
       "      <td>8.0</td>\n",
       "      <td>Frequent Customer</td>\n",
       "      <td>Charles</td>\n",
       "      <td>Cox</td>\n",
       "      <td>Male</td>\n",
       "      <td>Minnesota</td>\n",
       "      <td>81</td>\n",
       "      <td>8/1/2019</td>\n",
       "      <td>1</td>\n",
       "      <td>married</td>\n",
       "      <td>49620</td>\n",
       "      <td>Midwest</td>\n",
       "      <td>Normal Activity</td>\n",
       "      <td>Old</td>\n",
       "      <td>Moderate Earner</td>\n",
       "      <td>Parent</td>\n",
       "      <td>Meat Eater</td>\n",
       "      <td>Old Moderate Earning Parent</td>\n",
       "    </tr>\n",
       "    <tr>\n",
       "      <th>4</th>\n",
       "      <td>1000</td>\n",
       "      <td>Apricots</td>\n",
       "      <td>18</td>\n",
       "      <td>10</td>\n",
       "      <td>12.9</td>\n",
       "      <td>505689</td>\n",
       "      <td>138</td>\n",
       "      <td>9</td>\n",
       "      <td>6</td>\n",
       "      <td>12</td>\n",
       "      <td>7.0</td>\n",
       "      <td>False</td>\n",
       "      <td>5</td>\n",
       "      <td>0</td>\n",
       "      <td>both</td>\n",
       "      <td>Regularly Busy</td>\n",
       "      <td>Mid Range Product</td>\n",
       "      <td>Regular Days</td>\n",
       "      <td>Most Orders</td>\n",
       "      <td>32</td>\n",
       "      <td>Regular Customer</td>\n",
       "      <td>6.935811</td>\n",
       "      <td>Low Spender</td>\n",
       "      <td>8.0</td>\n",
       "      <td>Frequent Customer</td>\n",
       "      <td>Charles</td>\n",
       "      <td>Cox</td>\n",
       "      <td>Male</td>\n",
       "      <td>Minnesota</td>\n",
       "      <td>81</td>\n",
       "      <td>8/1/2019</td>\n",
       "      <td>1</td>\n",
       "      <td>married</td>\n",
       "      <td>49620</td>\n",
       "      <td>Midwest</td>\n",
       "      <td>Normal Activity</td>\n",
       "      <td>Old</td>\n",
       "      <td>Moderate Earner</td>\n",
       "      <td>Parent</td>\n",
       "      <td>None Assigned</td>\n",
       "      <td>Old Moderate Earning Parent</td>\n",
       "    </tr>\n",
       "  </tbody>\n",
       "</table>\n",
       "</div>"
      ],
      "text/plain": [
       "   product_id                product_name  aisle_id  department_id  prices  \\\n",
       "0           1  Chocolate Sandwich Cookies        61             19     5.8   \n",
       "1           1  Chocolate Sandwich Cookies        61             19     5.8   \n",
       "2         907        Premium Sliced Bacon       106             12    20.0   \n",
       "3         907        Premium Sliced Bacon       106             12    20.0   \n",
       "4        1000                    Apricots        18             10    12.9   \n",
       "\n",
       "   order_id user_id  order_number  orders_day_of_week  order_hour_of_day  \\\n",
       "0   3139998     138            28                   6                 11   \n",
       "1   1977647     138            30                   6                 17   \n",
       "2   3160996     138             1                   5                 13   \n",
       "3   2254091     138            10                   5                 14   \n",
       "4    505689     138             9                   6                 12   \n",
       "\n",
       "   days_since_prior_order  first_order  add_to_cart_order  reordered _merge  \\\n",
       "0                     3.0        False                  5          0   both   \n",
       "1                    20.0        False                  1          1   both   \n",
       "2                     NaN         True                  4          0   both   \n",
       "3                     6.0        False                  1          1   both   \n",
       "4                     7.0        False                  5          0   both   \n",
       "\n",
       "      busiest_day     price_range_loc  busiest_days busiest_period_of_day  \\\n",
       "0  Regularly Busy   Mid Range Product  Regular Days           Most Orders   \n",
       "1  Regularly Busy   Mid Range Product  Regular Days        Average Orders   \n",
       "2  Regularly Busy  High Range Product  Regular Days           Most Orders   \n",
       "3  Regularly Busy  High Range Product  Regular Days           Most Orders   \n",
       "4  Regularly Busy   Mid Range Product  Regular Days           Most Orders   \n",
       "\n",
       "   max_order      loyalty_flag  average_price spending_flag  \\\n",
       "0         32  Regular Customer       6.935811   Low Spender   \n",
       "1         32  Regular Customer       6.935811   Low Spender   \n",
       "2         32  Regular Customer       6.935811   Low Spender   \n",
       "3         32  Regular Customer       6.935811   Low Spender   \n",
       "4         32  Regular Customer       6.935811   Low Spender   \n",
       "\n",
       "   days_since_median     frequency_flag first_name last_name gender  \\\n",
       "0                8.0  Frequent Customer    Charles       Cox   Male   \n",
       "1                8.0  Frequent Customer    Charles       Cox   Male   \n",
       "2                8.0  Frequent Customer    Charles       Cox   Male   \n",
       "3                8.0  Frequent Customer    Charles       Cox   Male   \n",
       "4                8.0  Frequent Customer    Charles       Cox   Male   \n",
       "\n",
       "       state  age date_joined  num_of_dependants fam_status  income   region  \\\n",
       "0  Minnesota   81    8/1/2019                  1    married   49620  Midwest   \n",
       "1  Minnesota   81    8/1/2019                  1    married   49620  Midwest   \n",
       "2  Minnesota   81    8/1/2019                  1    married   49620  Midwest   \n",
       "3  Minnesota   81    8/1/2019                  1    married   49620  Midwest   \n",
       "4  Minnesota   81    8/1/2019                  1    married   49620  Midwest   \n",
       "\n",
       "    exclusion_flag age_profile   income_profile parent_flag  order_profile  \\\n",
       "0  Normal Activity         Old  Moderate Earner      Parent  None Assigned   \n",
       "1  Normal Activity         Old  Moderate Earner      Parent  None Assigned   \n",
       "2  Normal Activity         Old  Moderate Earner      Parent     Meat Eater   \n",
       "3  Normal Activity         Old  Moderate Earner      Parent     Meat Eater   \n",
       "4  Normal Activity         Old  Moderate Earner      Parent  None Assigned   \n",
       "\n",
       "              customer_profile  \n",
       "0  Old Moderate Earning Parent  \n",
       "1  Old Moderate Earning Parent  \n",
       "2  Old Moderate Earning Parent  \n",
       "3  Old Moderate Earning Parent  \n",
       "4  Old Moderate Earning Parent  "
      ]
     },
     "execution_count": 6,
     "metadata": {},
     "output_type": "execute_result"
    }
   ],
   "source": [
    "# verify data frame import was successful\n",
    "\n",
    "df.head()"
   ]
  },
  {
   "cell_type": "markdown",
   "id": "49ccfa0d",
   "metadata": {},
   "source": [
    "## Key Question 1- busiest days and hours"
   ]
  },
  {
   "cell_type": "code",
   "execution_count": 14,
   "id": "514a06ef",
   "metadata": {},
   "outputs": [
    {
     "data": {
      "text/plain": [
       "0    6204182\n",
       "1    5660230\n",
       "2    4213830\n",
       "3    3840534\n",
       "4    3783802\n",
       "5    4205791\n",
       "6    4496490\n",
       "Name: orders_day_of_week, dtype: int64"
      ]
     },
     "execution_count": 14,
     "metadata": {},
     "output_type": "execute_result"
    }
   ],
   "source": [
    "# create a value count of the orders day of week column\n",
    "\n",
    "df['orders_day_of_week'].value_counts(dropna = False).sort_index()"
   ]
  },
  {
   "cell_type": "code",
   "execution_count": 15,
   "id": "6e708e48",
   "metadata": {},
   "outputs": [
    {
     "data": {
      "text/plain": [
       "0      218769\n",
       "1      115700\n",
       "2       69375\n",
       "3       51281\n",
       "4       53242\n",
       "5       87961\n",
       "6      290493\n",
       "7      891054\n",
       "8     1718118\n",
       "9     2454203\n",
       "10    2761760\n",
       "11    2736140\n",
       "12    2618532\n",
       "13    2660954\n",
       "14    2689136\n",
       "15    2662144\n",
       "16    2535202\n",
       "17    2087654\n",
       "18    1636502\n",
       "19    1258305\n",
       "20     976156\n",
       "21     795637\n",
       "22     634225\n",
       "23     402316\n",
       "Name: order_hour_of_day, dtype: int64"
      ]
     },
     "execution_count": 15,
     "metadata": {},
     "output_type": "execute_result"
    }
   ],
   "source": [
    "# create a value count of the orders hour of day column\n",
    "\n",
    "df['order_hour_of_day'].value_counts(dropna = False).sort_index()"
   ]
  },
  {
   "cell_type": "code",
   "execution_count": 56,
   "id": "320b17ab",
   "metadata": {
    "scrolled": true
   },
   "outputs": [
    {
     "data": {
      "image/png": "[encoded data removed]",
      "text/plain": [
       "<Figure size 432x288 with 1 Axes>"
      ]
     },
     "metadata": {
      "needs_background": "light"
     },
     "output_type": "display_data"
    }
   ],
   "source": [
    "# Create bar chart for days\n",
    "\n",
    "bar_busy_days = df['orders_day_of_week'].value_counts().sort_index().plot.bar(title='Busiest Days of the Week', xlabel='Orders Day of Week', ylabel='Number of Orders')"
   ]
  },
  {
   "cell_type": "code",
   "execution_count": 17,
   "id": "af53fd25",
   "metadata": {},
   "outputs": [],
   "source": [
    "# the busiest days are saturday and sunday"
   ]
  },
  {
   "cell_type": "code",
   "execution_count": 55,
   "id": "96622fe6",
   "metadata": {},
   "outputs": [
    {
     "data": {
      "image/png": "[encoded data removed]",
      "text/plain": [
       "<Figure size 432x288 with 1 Axes>"
      ]
     },
     "metadata": {
      "needs_background": "light"
     },
     "output_type": "display_data"
    }
   ],
   "source": [
    "# Create a bar chart for hours\n",
    "\n",
    "bar_busy_hours = df['order_hour_of_day'].value_counts().sort_index().plot.bar(title='Busiest Hours of the Day', xlabel='Order Hour of Day', ylabel='Number of Orders')"
   ]
  },
  {
   "cell_type": "code",
   "execution_count": 20,
   "id": "c9dd1270",
   "metadata": {},
   "outputs": [],
   "source": [
    "# the busiest hours are 9 AM through 4 PM"
   ]
  },
  {
   "cell_type": "code",
   "execution_count": 57,
   "id": "d709e0ed",
   "metadata": {},
   "outputs": [],
   "source": [
    "# export both charts\n",
    "\n",
    "bar_busy_hours.figure.savefig(os.path.join(path, '04 Analysis', 'Visuals', 'E10', 'bar_busy_hours.png'))\n",
    "bar_busy_days.figure.savefig(os.path.join(path, '04 Analysis', 'Visuals', 'E10', 'bar_busy_days.png'))"
   ]
  },
  {
   "cell_type": "markdown",
   "id": "228ca46a",
   "metadata": {},
   "source": [
    "## Key Question 2- times of day with most revenue"
   ]
  },
  {
   "cell_type": "code",
   "execution_count": 23,
   "id": "6fc1af4a",
   "metadata": {},
   "outputs": [],
   "source": [
    "# chart created during E9. Moved the exported chart to exercise 10 folder. "
   ]
  },
  {
   "cell_type": "markdown",
   "id": "76de7c88",
   "metadata": {},
   "source": [
    "## Key Question 3- price range groupings"
   ]
  },
  {
   "cell_type": "code",
   "execution_count": 71,
   "id": "cc9ff868",
   "metadata": {},
   "outputs": [],
   "source": [
    "# Create histogram of product prices"
   ]
  },
  {
   "cell_type": "code",
   "execution_count": 70,
   "id": "ac9e5699",
   "metadata": {},
   "outputs": [
    {
     "data": {
      "image/png": "[encoded data removed]",
      "text/plain": [
       "<Figure size 432x288 with 1 Axes>"
      ]
     },
     "metadata": {
      "needs_background": "light"
     },
     "output_type": "display_data"
    }
   ],
   "source": [
    "hist_prices = df['prices'].plot.hist(bins = 70, title='Frequency of Orders by Product Price')"
   ]
  },
  {
   "cell_type": "code",
   "execution_count": 72,
   "id": "5bbb0144",
   "metadata": {},
   "outputs": [],
   "source": [
    "# export\n",
    "\n",
    "hist_prices.figure.savefig(os.path.join(path, '04 Analysis', 'Visuals', 'E10', 'KQ3 hist_prices.png'))"
   ]
  },
  {
   "cell_type": "code",
   "execution_count": 62,
   "id": "65dbe87a",
   "metadata": {},
   "outputs": [
    {
     "data": {
      "image/png": "[encoded data removed]",
      "text/plain": [
       "<Figure size 432x288 with 1 Axes>"
      ]
     },
     "metadata": {
      "needs_background": "light"
     },
     "output_type": "display_data"
    }
   ],
   "source": [
    "# create a bar chart showing frequency of the different price range buckets\n",
    "\n",
    "bar_price_range = df['price_range_loc'].value_counts().sort_index().plot.bar(title='Number of Orders by Product Price Range', ylabel='Number of Orders')"
   ]
  },
  {
   "cell_type": "code",
   "execution_count": 63,
   "id": "542015ab",
   "metadata": {},
   "outputs": [],
   "source": [
    "# Export\n",
    "\n",
    "bar_price_range.figure.savefig(os.path.join(path, '04 Analysis', 'Visuals', 'E10', 'KQ3 bar_price_range.png'))"
   ]
  },
  {
   "cell_type": "markdown",
   "id": "ea90fb3c",
   "metadata": {},
   "source": [
    "## Key Question 4- department popularity"
   ]
  },
  {
   "cell_type": "code",
   "execution_count": 38,
   "id": "8536f500",
   "metadata": {},
   "outputs": [
    {
     "data": {
      "text/plain": [
       "4     9479291\n",
       "16    5398747\n",
       "19    2887550\n",
       "7     2688123\n",
       "1     2234743\n",
       "13    1875369\n",
       "3     1172428\n",
       "15    1068058\n",
       "20    1051249\n",
       "9      866627\n",
       "17     738666\n",
       "12     708927\n",
       "14     703033\n",
       "11     447572\n",
       "18     423802\n",
       "6      269253\n",
       "5      153696\n",
       "8       97716\n",
       "21      69145\n",
       "2       36291\n",
       "10      34573\n",
       "Name: department_id, dtype: int64"
      ]
     },
     "execution_count": 38,
     "metadata": {},
     "output_type": "execute_result"
    }
   ],
   "source": [
    "df['department_id'].value_counts(dropna = False)"
   ]
  },
  {
   "cell_type": "code",
   "execution_count": 64,
   "id": "2b2fd87e",
   "metadata": {},
   "outputs": [
    {
     "data": {
      "image/png": "[encoded data removed]",
      "text/plain": [
       "<Figure size 432x288 with 1 Axes>"
      ]
     },
     "metadata": {
      "needs_background": "light"
     },
     "output_type": "display_data"
    }
   ],
   "source": [
    "bar_dept = df['department_id'].value_counts().plot.bar(title='Most Popular Departments', xlabel='Department ID', ylabel='Number of Orders')"
   ]
  },
  {
   "cell_type": "code",
   "execution_count": 41,
   "id": "96edd721",
   "metadata": {},
   "outputs": [],
   "source": [
    "# the most popular departments are product and dairy/eggs"
   ]
  },
  {
   "cell_type": "code",
   "execution_count": 65,
   "id": "28034386",
   "metadata": {},
   "outputs": [],
   "source": [
    "# export\n",
    "bar_dept.figure.savefig(os.path.join(path, '04 Analysis', 'Visuals', 'E10', 'KQ4 bar_dept.png'))"
   ]
  },
  {
   "cell_type": "markdown",
   "id": "25f4abfc",
   "metadata": {},
   "source": [
    "## 5A- what's the distribution among users in regard to their brand loyalty"
   ]
  },
  {
   "cell_type": "code",
   "execution_count": 7,
   "id": "1d2b2b1c",
   "metadata": {
    "scrolled": false
   },
   "outputs": [
    {
     "data": {
      "text/html": [
       "<div>\n",
       "<style scoped>\n",
       "    .dataframe tbody tr th:only-of-type {\n",
       "        vertical-align: middle;\n",
       "    }\n",
       "\n",
       "    .dataframe tbody tr th {\n",
       "        vertical-align: top;\n",
       "    }\n",
       "\n",
       "    .dataframe thead th {\n",
       "        text-align: right;\n",
       "    }\n",
       "</style>\n",
       "<table border=\"1\" class=\"dataframe\">\n",
       "  <thead>\n",
       "    <tr style=\"text-align: right;\">\n",
       "      <th></th>\n",
       "      <th>product_id</th>\n",
       "      <th>product_name</th>\n",
       "      <th>aisle_id</th>\n",
       "      <th>department_id</th>\n",
       "      <th>prices</th>\n",
       "      <th>order_id</th>\n",
       "      <th>user_id</th>\n",
       "      <th>order_number</th>\n",
       "      <th>orders_day_of_week</th>\n",
       "      <th>order_hour_of_day</th>\n",
       "      <th>days_since_prior_order</th>\n",
       "      <th>first_order</th>\n",
       "      <th>add_to_cart_order</th>\n",
       "      <th>reordered</th>\n",
       "      <th>_merge</th>\n",
       "      <th>busiest_day</th>\n",
       "      <th>price_range_loc</th>\n",
       "      <th>busiest_days</th>\n",
       "      <th>busiest_period_of_day</th>\n",
       "      <th>max_order</th>\n",
       "      <th>loyalty_flag</th>\n",
       "      <th>average_price</th>\n",
       "      <th>spending_flag</th>\n",
       "      <th>days_since_median</th>\n",
       "      <th>frequency_flag</th>\n",
       "      <th>first_name</th>\n",
       "      <th>last_name</th>\n",
       "      <th>gender</th>\n",
       "      <th>state</th>\n",
       "      <th>age</th>\n",
       "      <th>date_joined</th>\n",
       "      <th>num_of_dependants</th>\n",
       "      <th>fam_status</th>\n",
       "      <th>income</th>\n",
       "      <th>region</th>\n",
       "      <th>exclusion_flag</th>\n",
       "      <th>age_profile</th>\n",
       "      <th>income_profile</th>\n",
       "      <th>parent_flag</th>\n",
       "      <th>order_profile</th>\n",
       "      <th>customer_profile</th>\n",
       "    </tr>\n",
       "  </thead>\n",
       "  <tbody>\n",
       "    <tr>\n",
       "      <th>0</th>\n",
       "      <td>1</td>\n",
       "      <td>Chocolate Sandwich Cookies</td>\n",
       "      <td>61</td>\n",
       "      <td>19</td>\n",
       "      <td>5.8</td>\n",
       "      <td>3139998</td>\n",
       "      <td>138</td>\n",
       "      <td>28</td>\n",
       "      <td>6</td>\n",
       "      <td>11</td>\n",
       "      <td>3.0</td>\n",
       "      <td>False</td>\n",
       "      <td>5</td>\n",
       "      <td>0</td>\n",
       "      <td>both</td>\n",
       "      <td>Regularly Busy</td>\n",
       "      <td>Mid Range Product</td>\n",
       "      <td>Regular Days</td>\n",
       "      <td>Most Orders</td>\n",
       "      <td>32</td>\n",
       "      <td>Regular Customer</td>\n",
       "      <td>6.935811</td>\n",
       "      <td>Low Spender</td>\n",
       "      <td>8.0</td>\n",
       "      <td>Frequent Customer</td>\n",
       "      <td>Charles</td>\n",
       "      <td>Cox</td>\n",
       "      <td>Male</td>\n",
       "      <td>Minnesota</td>\n",
       "      <td>81</td>\n",
       "      <td>8/1/2019</td>\n",
       "      <td>1</td>\n",
       "      <td>married</td>\n",
       "      <td>49620</td>\n",
       "      <td>Midwest</td>\n",
       "      <td>Normal Activity</td>\n",
       "      <td>Old</td>\n",
       "      <td>Moderate Earner</td>\n",
       "      <td>Parent</td>\n",
       "      <td>None Assigned</td>\n",
       "      <td>Old Moderate Earning Parent</td>\n",
       "    </tr>\n",
       "    <tr>\n",
       "      <th>1</th>\n",
       "      <td>1</td>\n",
       "      <td>Chocolate Sandwich Cookies</td>\n",
       "      <td>61</td>\n",
       "      <td>19</td>\n",
       "      <td>5.8</td>\n",
       "      <td>1977647</td>\n",
       "      <td>138</td>\n",
       "      <td>30</td>\n",
       "      <td>6</td>\n",
       "      <td>17</td>\n",
       "      <td>20.0</td>\n",
       "      <td>False</td>\n",
       "      <td>1</td>\n",
       "      <td>1</td>\n",
       "      <td>both</td>\n",
       "      <td>Regularly Busy</td>\n",
       "      <td>Mid Range Product</td>\n",
       "      <td>Regular Days</td>\n",
       "      <td>Average Orders</td>\n",
       "      <td>32</td>\n",
       "      <td>Regular Customer</td>\n",
       "      <td>6.935811</td>\n",
       "      <td>Low Spender</td>\n",
       "      <td>8.0</td>\n",
       "      <td>Frequent Customer</td>\n",
       "      <td>Charles</td>\n",
       "      <td>Cox</td>\n",
       "      <td>Male</td>\n",
       "      <td>Minnesota</td>\n",
       "      <td>81</td>\n",
       "      <td>8/1/2019</td>\n",
       "      <td>1</td>\n",
       "      <td>married</td>\n",
       "      <td>49620</td>\n",
       "      <td>Midwest</td>\n",
       "      <td>Normal Activity</td>\n",
       "      <td>Old</td>\n",
       "      <td>Moderate Earner</td>\n",
       "      <td>Parent</td>\n",
       "      <td>None Assigned</td>\n",
       "      <td>Old Moderate Earning Parent</td>\n",
       "    </tr>\n",
       "    <tr>\n",
       "      <th>2</th>\n",
       "      <td>907</td>\n",
       "      <td>Premium Sliced Bacon</td>\n",
       "      <td>106</td>\n",
       "      <td>12</td>\n",
       "      <td>20.0</td>\n",
       "      <td>3160996</td>\n",
       "      <td>138</td>\n",
       "      <td>1</td>\n",
       "      <td>5</td>\n",
       "      <td>13</td>\n",
       "      <td>NaN</td>\n",
       "      <td>True</td>\n",
       "      <td>4</td>\n",
       "      <td>0</td>\n",
       "      <td>both</td>\n",
       "      <td>Regularly Busy</td>\n",
       "      <td>High Range Product</td>\n",
       "      <td>Regular Days</td>\n",
       "      <td>Most Orders</td>\n",
       "      <td>32</td>\n",
       "      <td>Regular Customer</td>\n",
       "      <td>6.935811</td>\n",
       "      <td>Low Spender</td>\n",
       "      <td>8.0</td>\n",
       "      <td>Frequent Customer</td>\n",
       "      <td>Charles</td>\n",
       "      <td>Cox</td>\n",
       "      <td>Male</td>\n",
       "      <td>Minnesota</td>\n",
       "      <td>81</td>\n",
       "      <td>8/1/2019</td>\n",
       "      <td>1</td>\n",
       "      <td>married</td>\n",
       "      <td>49620</td>\n",
       "      <td>Midwest</td>\n",
       "      <td>Normal Activity</td>\n",
       "      <td>Old</td>\n",
       "      <td>Moderate Earner</td>\n",
       "      <td>Parent</td>\n",
       "      <td>Meat Eater</td>\n",
       "      <td>Old Moderate Earning Parent</td>\n",
       "    </tr>\n",
       "    <tr>\n",
       "      <th>3</th>\n",
       "      <td>907</td>\n",
       "      <td>Premium Sliced Bacon</td>\n",
       "      <td>106</td>\n",
       "      <td>12</td>\n",
       "      <td>20.0</td>\n",
       "      <td>2254091</td>\n",
       "      <td>138</td>\n",
       "      <td>10</td>\n",
       "      <td>5</td>\n",
       "      <td>14</td>\n",
       "      <td>6.0</td>\n",
       "      <td>False</td>\n",
       "      <td>1</td>\n",
       "      <td>1</td>\n",
       "      <td>both</td>\n",
       "      <td>Regularly Busy</td>\n",
       "      <td>High Range Product</td>\n",
       "      <td>Regular Days</td>\n",
       "      <td>Most Orders</td>\n",
       "      <td>32</td>\n",
       "      <td>Regular Customer</td>\n",
       "      <td>6.935811</td>\n",
       "      <td>Low Spender</td>\n",
       "      <td>8.0</td>\n",
       "      <td>Frequent Customer</td>\n",
       "      <td>Charles</td>\n",
       "      <td>Cox</td>\n",
       "      <td>Male</td>\n",
       "      <td>Minnesota</td>\n",
       "      <td>81</td>\n",
       "      <td>8/1/2019</td>\n",
       "      <td>1</td>\n",
       "      <td>married</td>\n",
       "      <td>49620</td>\n",
       "      <td>Midwest</td>\n",
       "      <td>Normal Activity</td>\n",
       "      <td>Old</td>\n",
       "      <td>Moderate Earner</td>\n",
       "      <td>Parent</td>\n",
       "      <td>Meat Eater</td>\n",
       "      <td>Old Moderate Earning Parent</td>\n",
       "    </tr>\n",
       "    <tr>\n",
       "      <th>4</th>\n",
       "      <td>1000</td>\n",
       "      <td>Apricots</td>\n",
       "      <td>18</td>\n",
       "      <td>10</td>\n",
       "      <td>12.9</td>\n",
       "      <td>505689</td>\n",
       "      <td>138</td>\n",
       "      <td>9</td>\n",
       "      <td>6</td>\n",
       "      <td>12</td>\n",
       "      <td>7.0</td>\n",
       "      <td>False</td>\n",
       "      <td>5</td>\n",
       "      <td>0</td>\n",
       "      <td>both</td>\n",
       "      <td>Regularly Busy</td>\n",
       "      <td>Mid Range Product</td>\n",
       "      <td>Regular Days</td>\n",
       "      <td>Most Orders</td>\n",
       "      <td>32</td>\n",
       "      <td>Regular Customer</td>\n",
       "      <td>6.935811</td>\n",
       "      <td>Low Spender</td>\n",
       "      <td>8.0</td>\n",
       "      <td>Frequent Customer</td>\n",
       "      <td>Charles</td>\n",
       "      <td>Cox</td>\n",
       "      <td>Male</td>\n",
       "      <td>Minnesota</td>\n",
       "      <td>81</td>\n",
       "      <td>8/1/2019</td>\n",
       "      <td>1</td>\n",
       "      <td>married</td>\n",
       "      <td>49620</td>\n",
       "      <td>Midwest</td>\n",
       "      <td>Normal Activity</td>\n",
       "      <td>Old</td>\n",
       "      <td>Moderate Earner</td>\n",
       "      <td>Parent</td>\n",
       "      <td>None Assigned</td>\n",
       "      <td>Old Moderate Earning Parent</td>\n",
       "    </tr>\n",
       "  </tbody>\n",
       "</table>\n",
       "</div>"
      ],
      "text/plain": [
       "   product_id                product_name  aisle_id  department_id  prices  \\\n",
       "0           1  Chocolate Sandwich Cookies        61             19     5.8   \n",
       "1           1  Chocolate Sandwich Cookies        61             19     5.8   \n",
       "2         907        Premium Sliced Bacon       106             12    20.0   \n",
       "3         907        Premium Sliced Bacon       106             12    20.0   \n",
       "4        1000                    Apricots        18             10    12.9   \n",
       "\n",
       "   order_id user_id  order_number  orders_day_of_week  order_hour_of_day  \\\n",
       "0   3139998     138            28                   6                 11   \n",
       "1   1977647     138            30                   6                 17   \n",
       "2   3160996     138             1                   5                 13   \n",
       "3   2254091     138            10                   5                 14   \n",
       "4    505689     138             9                   6                 12   \n",
       "\n",
       "   days_since_prior_order  first_order  add_to_cart_order  reordered _merge  \\\n",
       "0                     3.0        False                  5          0   both   \n",
       "1                    20.0        False                  1          1   both   \n",
       "2                     NaN         True                  4          0   both   \n",
       "3                     6.0        False                  1          1   both   \n",
       "4                     7.0        False                  5          0   both   \n",
       "\n",
       "      busiest_day     price_range_loc  busiest_days busiest_period_of_day  \\\n",
       "0  Regularly Busy   Mid Range Product  Regular Days           Most Orders   \n",
       "1  Regularly Busy   Mid Range Product  Regular Days        Average Orders   \n",
       "2  Regularly Busy  High Range Product  Regular Days           Most Orders   \n",
       "3  Regularly Busy  High Range Product  Regular Days           Most Orders   \n",
       "4  Regularly Busy   Mid Range Product  Regular Days           Most Orders   \n",
       "\n",
       "   max_order      loyalty_flag  average_price spending_flag  \\\n",
       "0         32  Regular Customer       6.935811   Low Spender   \n",
       "1         32  Regular Customer       6.935811   Low Spender   \n",
       "2         32  Regular Customer       6.935811   Low Spender   \n",
       "3         32  Regular Customer       6.935811   Low Spender   \n",
       "4         32  Regular Customer       6.935811   Low Spender   \n",
       "\n",
       "   days_since_median     frequency_flag first_name last_name gender  \\\n",
       "0                8.0  Frequent Customer    Charles       Cox   Male   \n",
       "1                8.0  Frequent Customer    Charles       Cox   Male   \n",
       "2                8.0  Frequent Customer    Charles       Cox   Male   \n",
       "3                8.0  Frequent Customer    Charles       Cox   Male   \n",
       "4                8.0  Frequent Customer    Charles       Cox   Male   \n",
       "\n",
       "       state  age date_joined  num_of_dependants fam_status  income   region  \\\n",
       "0  Minnesota   81    8/1/2019                  1    married   49620  Midwest   \n",
       "1  Minnesota   81    8/1/2019                  1    married   49620  Midwest   \n",
       "2  Minnesota   81    8/1/2019                  1    married   49620  Midwest   \n",
       "3  Minnesota   81    8/1/2019                  1    married   49620  Midwest   \n",
       "4  Minnesota   81    8/1/2019                  1    married   49620  Midwest   \n",
       "\n",
       "    exclusion_flag age_profile   income_profile parent_flag  order_profile  \\\n",
       "0  Normal Activity         Old  Moderate Earner      Parent  None Assigned   \n",
       "1  Normal Activity         Old  Moderate Earner      Parent  None Assigned   \n",
       "2  Normal Activity         Old  Moderate Earner      Parent     Meat Eater   \n",
       "3  Normal Activity         Old  Moderate Earner      Parent     Meat Eater   \n",
       "4  Normal Activity         Old  Moderate Earner      Parent  None Assigned   \n",
       "\n",
       "              customer_profile  \n",
       "0  Old Moderate Earning Parent  \n",
       "1  Old Moderate Earning Parent  \n",
       "2  Old Moderate Earning Parent  \n",
       "3  Old Moderate Earning Parent  \n",
       "4  Old Moderate Earning Parent  "
      ]
     },
     "execution_count": 7,
     "metadata": {},
     "output_type": "execute_result"
    }
   ],
   "source": [
    "df.head()"
   ]
  },
  {
   "cell_type": "code",
   "execution_count": 17,
   "id": "c66df685",
   "metadata": {},
   "outputs": [
    {
     "data": {
      "text/plain": [
       "Regular Customer    15876776\n",
       "Loyal Customer      10284093\n",
       "New Customer         6243990\n",
       "Name: loyalty_flag, dtype: int64"
      ]
     },
     "execution_count": 17,
     "metadata": {},
     "output_type": "execute_result"
    }
   ],
   "source": [
    "df['loyalty_flag'].value_counts(dropna = False)"
   ]
  },
  {
   "cell_type": "code",
   "execution_count": 37,
   "id": "06244a86",
   "metadata": {},
   "outputs": [
    {
     "data": {
      "image/png": "[encoded data removed]",
      "text/plain": [
       "<Figure size 432x288 with 1 Axes>"
      ]
     },
     "metadata": {},
     "output_type": "display_data"
    }
   ],
   "source": [
    "loyalty_pie = df['loyalty_flag'].value_counts().plot.pie(title='Customer Loyalty Distribution', ylabel=' ', autopct='%1.0f%%')"
   ]
  },
  {
   "cell_type": "code",
   "execution_count": 38,
   "id": "d9add9b9",
   "metadata": {},
   "outputs": [],
   "source": [
    "# export\n",
    "loyalty_pie.figure.savefig(os.path.join(path, '04 Analysis', 'Visuals', 'E10', 'KQ5A loyalty_pie.png'))"
   ]
  },
  {
   "cell_type": "markdown",
   "id": "bf27b340",
   "metadata": {},
   "source": [
    "## 5B- are there differences in ordering habits based on a customers loyalty status"
   ]
  },
  {
   "cell_type": "code",
   "execution_count": 44,
   "id": "7fb9aaf1",
   "metadata": {},
   "outputs": [],
   "source": [
    "# Cross loyalty status and spending flag\n",
    "\n",
    "loyalty_spend_cross = pd.crosstab(df['spending_flag'], df['loyalty_flag'], dropna = False)"
   ]
  },
  {
   "cell_type": "code",
   "execution_count": 45,
   "id": "b13e1e85",
   "metadata": {
    "scrolled": true
   },
   "outputs": [
    {
     "data": {
      "text/html": [
       "<div>\n",
       "<style scoped>\n",
       "    .dataframe tbody tr th:only-of-type {\n",
       "        vertical-align: middle;\n",
       "    }\n",
       "\n",
       "    .dataframe tbody tr th {\n",
       "        vertical-align: top;\n",
       "    }\n",
       "\n",
       "    .dataframe thead th {\n",
       "        text-align: right;\n",
       "    }\n",
       "</style>\n",
       "<table border=\"1\" class=\"dataframe\">\n",
       "  <thead>\n",
       "    <tr style=\"text-align: right;\">\n",
       "      <th>loyalty_flag</th>\n",
       "      <th>Loyal Customer</th>\n",
       "      <th>New Customer</th>\n",
       "      <th>Regular Customer</th>\n",
       "    </tr>\n",
       "    <tr>\n",
       "      <th>spending_flag</th>\n",
       "      <th></th>\n",
       "      <th></th>\n",
       "      <th></th>\n",
       "    </tr>\n",
       "  </thead>\n",
       "  <tbody>\n",
       "    <tr>\n",
       "      <th>High Spender</th>\n",
       "      <td>216600</td>\n",
       "      <td>114831</td>\n",
       "      <td>302814</td>\n",
       "    </tr>\n",
       "    <tr>\n",
       "      <th>Low Spender</th>\n",
       "      <td>10067493</td>\n",
       "      <td>6129159</td>\n",
       "      <td>15573962</td>\n",
       "    </tr>\n",
       "  </tbody>\n",
       "</table>\n",
       "</div>"
      ],
      "text/plain": [
       "loyalty_flag   Loyal Customer  New Customer  Regular Customer\n",
       "spending_flag                                                \n",
       "High Spender           216600        114831            302814\n",
       "Low Spender          10067493       6129159          15573962"
      ]
     },
     "execution_count": 45,
     "metadata": {},
     "output_type": "execute_result"
    }
   ],
   "source": [
    "loyalty_spend_cross"
   ]
  },
  {
   "cell_type": "code",
   "execution_count": 46,
   "id": "46f14841",
   "metadata": {},
   "outputs": [],
   "source": [
    "loyalty_spend_cross.to_clipboard()"
   ]
  },
  {
   "cell_type": "markdown",
   "id": "ec943518",
   "metadata": {},
   "source": [
    "Roughly 2% of each loyalty category is high spenders. No signifigant difference between them. "
   ]
  },
  {
   "cell_type": "code",
   "execution_count": 48,
   "id": "c866337a",
   "metadata": {},
   "outputs": [],
   "source": [
    "# Cross loyalty status and frequency flag\n",
    "\n",
    "loyalty_freq_cross = pd.crosstab(df['frequency_flag'], df['loyalty_flag'], dropna = False)"
   ]
  },
  {
   "cell_type": "code",
   "execution_count": 49,
   "id": "f0acc61e",
   "metadata": {},
   "outputs": [
    {
     "data": {
      "text/html": [
       "<div>\n",
       "<style scoped>\n",
       "    .dataframe tbody tr th:only-of-type {\n",
       "        vertical-align: middle;\n",
       "    }\n",
       "\n",
       "    .dataframe tbody tr th {\n",
       "        vertical-align: top;\n",
       "    }\n",
       "\n",
       "    .dataframe thead th {\n",
       "        text-align: right;\n",
       "    }\n",
       "</style>\n",
       "<table border=\"1\" class=\"dataframe\">\n",
       "  <thead>\n",
       "    <tr style=\"text-align: right;\">\n",
       "      <th>loyalty_flag</th>\n",
       "      <th>Loyal Customer</th>\n",
       "      <th>New Customer</th>\n",
       "      <th>Regular Customer</th>\n",
       "    </tr>\n",
       "    <tr>\n",
       "      <th>frequency_flag</th>\n",
       "      <th></th>\n",
       "      <th></th>\n",
       "      <th></th>\n",
       "    </tr>\n",
       "  </thead>\n",
       "  <tbody>\n",
       "    <tr>\n",
       "      <th>Frequent Customer</th>\n",
       "      <td>10279960</td>\n",
       "      <td>1648671</td>\n",
       "      <td>9631222</td>\n",
       "    </tr>\n",
       "    <tr>\n",
       "      <th>Non Frequent Customer</th>\n",
       "      <td>0</td>\n",
       "      <td>2724962</td>\n",
       "      <td>911475</td>\n",
       "    </tr>\n",
       "    <tr>\n",
       "      <th>Regular Customer</th>\n",
       "      <td>4133</td>\n",
       "      <td>1870352</td>\n",
       "      <td>5334079</td>\n",
       "    </tr>\n",
       "  </tbody>\n",
       "</table>\n",
       "</div>"
      ],
      "text/plain": [
       "loyalty_flag           Loyal Customer  New Customer  Regular Customer\n",
       "frequency_flag                                                       \n",
       "Frequent Customer            10279960       1648671           9631222\n",
       "Non Frequent Customer               0       2724962            911475\n",
       "Regular Customer                 4133       1870352           5334079"
      ]
     },
     "execution_count": 49,
     "metadata": {},
     "output_type": "execute_result"
    }
   ],
   "source": [
    "loyalty_freq_cross"
   ]
  },
  {
   "cell_type": "code",
   "execution_count": 50,
   "id": "d2501dab",
   "metadata": {},
   "outputs": [],
   "source": [
    "loyalty_freq_cross.to_clipboard()"
   ]
  },
  {
   "cell_type": "markdown",
   "id": "c9fe5a2d",
   "metadata": {},
   "source": [
    "Analysis done in excel and chart in final report. "
   ]
  },
  {
   "cell_type": "markdown",
   "id": "73fb5ef4",
   "metadata": {},
   "source": [
    "## 5C- are there differences in ordering habits based on a customers region"
   ]
  },
  {
   "cell_type": "code",
   "execution_count": 51,
   "id": "e32f2c8e",
   "metadata": {},
   "outputs": [],
   "source": [
    "# Cross region and spending flag\n",
    "\n",
    "region_spend_cross = pd.crosstab(df['spending_flag'], df['region'], dropna = False)"
   ]
  },
  {
   "cell_type": "code",
   "execution_count": 52,
   "id": "e7598371",
   "metadata": {
    "scrolled": true
   },
   "outputs": [
    {
     "data": {
      "text/html": [
       "<div>\n",
       "<style scoped>\n",
       "    .dataframe tbody tr th:only-of-type {\n",
       "        vertical-align: middle;\n",
       "    }\n",
       "\n",
       "    .dataframe tbody tr th {\n",
       "        vertical-align: top;\n",
       "    }\n",
       "\n",
       "    .dataframe thead th {\n",
       "        text-align: right;\n",
       "    }\n",
       "</style>\n",
       "<table border=\"1\" class=\"dataframe\">\n",
       "  <thead>\n",
       "    <tr style=\"text-align: right;\">\n",
       "      <th>region</th>\n",
       "      <th>Midwest</th>\n",
       "      <th>Northeast</th>\n",
       "      <th>South</th>\n",
       "      <th>West</th>\n",
       "    </tr>\n",
       "    <tr>\n",
       "      <th>spending_flag</th>\n",
       "      <th></th>\n",
       "      <th></th>\n",
       "      <th></th>\n",
       "      <th></th>\n",
       "    </tr>\n",
       "  </thead>\n",
       "  <tbody>\n",
       "    <tr>\n",
       "      <th>High Spender</th>\n",
       "      <td>155975</td>\n",
       "      <td>108225</td>\n",
       "      <td>209691</td>\n",
       "      <td>160354</td>\n",
       "    </tr>\n",
       "    <tr>\n",
       "      <th>Low Spender</th>\n",
       "      <td>7441350</td>\n",
       "      <td>5614511</td>\n",
       "      <td>10582194</td>\n",
       "      <td>8132559</td>\n",
       "    </tr>\n",
       "  </tbody>\n",
       "</table>\n",
       "</div>"
      ],
      "text/plain": [
       "region         Midwest  Northeast     South     West\n",
       "spending_flag                                       \n",
       "High Spender    155975     108225    209691   160354\n",
       "Low Spender    7441350    5614511  10582194  8132559"
      ]
     },
     "execution_count": 52,
     "metadata": {},
     "output_type": "execute_result"
    }
   ],
   "source": [
    "region_spend_cross"
   ]
  },
  {
   "cell_type": "code",
   "execution_count": 53,
   "id": "a850ac99",
   "metadata": {},
   "outputs": [],
   "source": [
    "region_spend_cross.to_clipboard()"
   ]
  },
  {
   "cell_type": "code",
   "execution_count": 54,
   "id": "b7964778",
   "metadata": {},
   "outputs": [],
   "source": [
    "# cross region and frequency flag\n",
    "\n",
    "region_freq_cross = pd.crosstab(df['frequency_flag'], df['region'], dropna = False)"
   ]
  },
  {
   "cell_type": "code",
   "execution_count": 56,
   "id": "28552393",
   "metadata": {},
   "outputs": [],
   "source": [
    "region_freq_cross.to_clipboard()"
   ]
  },
  {
   "cell_type": "markdown",
   "id": "5b1dd9d9",
   "metadata": {},
   "source": [
    "Analysis done in excel and charts in final report. "
   ]
  },
  {
   "cell_type": "markdown",
   "id": "c1009cce",
   "metadata": {},
   "source": [
    "## 5D- is there a connection between age and family status in terms of ordering habits"
   ]
  },
  {
   "cell_type": "code",
   "execution_count": 58,
   "id": "48269174",
   "metadata": {},
   "outputs": [],
   "source": [
    "# Cross age profile and spending flag\n",
    "\n",
    "age_spend_cross = pd.crosstab(df['spending_flag'], df['age_profile'], dropna = False)"
   ]
  },
  {
   "cell_type": "code",
   "execution_count": 59,
   "id": "18eedec5",
   "metadata": {},
   "outputs": [
    {
     "data": {
      "text/html": [
       "<div>\n",
       "<style scoped>\n",
       "    .dataframe tbody tr th:only-of-type {\n",
       "        vertical-align: middle;\n",
       "    }\n",
       "\n",
       "    .dataframe tbody tr th {\n",
       "        vertical-align: top;\n",
       "    }\n",
       "\n",
       "    .dataframe thead th {\n",
       "        text-align: right;\n",
       "    }\n",
       "</style>\n",
       "<table border=\"1\" class=\"dataframe\">\n",
       "  <thead>\n",
       "    <tr style=\"text-align: right;\">\n",
       "      <th>age_profile</th>\n",
       "      <th>Middle Age</th>\n",
       "      <th>Old</th>\n",
       "      <th>Young</th>\n",
       "    </tr>\n",
       "    <tr>\n",
       "      <th>spending_flag</th>\n",
       "      <th></th>\n",
       "      <th></th>\n",
       "      <th></th>\n",
       "    </tr>\n",
       "  </thead>\n",
       "  <tbody>\n",
       "    <tr>\n",
       "      <th>High Spender</th>\n",
       "      <td>210643</td>\n",
       "      <td>308766</td>\n",
       "      <td>114836</td>\n",
       "    </tr>\n",
       "    <tr>\n",
       "      <th>Low Spender</th>\n",
       "      <td>9972345</td>\n",
       "      <td>15822664</td>\n",
       "      <td>5975605</td>\n",
       "    </tr>\n",
       "  </tbody>\n",
       "</table>\n",
       "</div>"
      ],
      "text/plain": [
       "age_profile    Middle Age       Old    Young\n",
       "spending_flag                               \n",
       "High Spender       210643    308766   114836\n",
       "Low Spender       9972345  15822664  5975605"
      ]
     },
     "execution_count": 59,
     "metadata": {},
     "output_type": "execute_result"
    }
   ],
   "source": [
    "age_spend_cross"
   ]
  },
  {
   "cell_type": "code",
   "execution_count": 60,
   "id": "e7c8865e",
   "metadata": {},
   "outputs": [],
   "source": [
    "age_spend_cross.to_clipboard()"
   ]
  },
  {
   "cell_type": "code",
   "execution_count": 61,
   "id": "6c4e7ef4",
   "metadata": {},
   "outputs": [],
   "source": [
    "# Cross age profile and frequency flag\n",
    "\n",
    "age_freq_cross = pd.crosstab(df['frequency_flag'], df['age_profile'], dropna = False)"
   ]
  },
  {
   "cell_type": "code",
   "execution_count": 62,
   "id": "a1d86e01",
   "metadata": {},
   "outputs": [
    {
     "data": {
      "text/html": [
       "<div>\n",
       "<style scoped>\n",
       "    .dataframe tbody tr th:only-of-type {\n",
       "        vertical-align: middle;\n",
       "    }\n",
       "\n",
       "    .dataframe tbody tr th {\n",
       "        vertical-align: top;\n",
       "    }\n",
       "\n",
       "    .dataframe thead th {\n",
       "        text-align: right;\n",
       "    }\n",
       "</style>\n",
       "<table border=\"1\" class=\"dataframe\">\n",
       "  <thead>\n",
       "    <tr style=\"text-align: right;\">\n",
       "      <th>age_profile</th>\n",
       "      <th>Middle Age</th>\n",
       "      <th>Old</th>\n",
       "      <th>Young</th>\n",
       "    </tr>\n",
       "    <tr>\n",
       "      <th>frequency_flag</th>\n",
       "      <th></th>\n",
       "      <th></th>\n",
       "      <th></th>\n",
       "    </tr>\n",
       "  </thead>\n",
       "  <tbody>\n",
       "    <tr>\n",
       "      <th>Frequent Customer</th>\n",
       "      <td>6765986</td>\n",
       "      <td>10734254</td>\n",
       "      <td>4059613</td>\n",
       "    </tr>\n",
       "    <tr>\n",
       "      <th>Non Frequent Customer</th>\n",
       "      <td>1145776</td>\n",
       "      <td>1808401</td>\n",
       "      <td>682260</td>\n",
       "    </tr>\n",
       "    <tr>\n",
       "      <th>Regular Customer</th>\n",
       "      <td>2271226</td>\n",
       "      <td>3588770</td>\n",
       "      <td>1348568</td>\n",
       "    </tr>\n",
       "  </tbody>\n",
       "</table>\n",
       "</div>"
      ],
      "text/plain": [
       "age_profile            Middle Age       Old    Young\n",
       "frequency_flag                                      \n",
       "Frequent Customer         6765986  10734254  4059613\n",
       "Non Frequent Customer     1145776   1808401   682260\n",
       "Regular Customer          2271226   3588770  1348568"
      ]
     },
     "execution_count": 62,
     "metadata": {},
     "output_type": "execute_result"
    }
   ],
   "source": [
    "age_freq_cross"
   ]
  },
  {
   "cell_type": "code",
   "execution_count": 63,
   "id": "e0d8d710",
   "metadata": {},
   "outputs": [],
   "source": [
    "age_freq_cross.to_clipboard()"
   ]
  },
  {
   "cell_type": "code",
   "execution_count": 64,
   "id": "2b05565d",
   "metadata": {},
   "outputs": [],
   "source": [
    "# Cross family status and spending flag\n",
    "\n",
    "fam_spend_cross = pd.crosstab(df['spending_flag'], df['fam_status'], dropna = False)"
   ]
  },
  {
   "cell_type": "code",
   "execution_count": 65,
   "id": "28950e46",
   "metadata": {},
   "outputs": [
    {
     "data": {
      "text/html": [
       "<div>\n",
       "<style scoped>\n",
       "    .dataframe tbody tr th:only-of-type {\n",
       "        vertical-align: middle;\n",
       "    }\n",
       "\n",
       "    .dataframe tbody tr th {\n",
       "        vertical-align: top;\n",
       "    }\n",
       "\n",
       "    .dataframe thead th {\n",
       "        text-align: right;\n",
       "    }\n",
       "</style>\n",
       "<table border=\"1\" class=\"dataframe\">\n",
       "  <thead>\n",
       "    <tr style=\"text-align: right;\">\n",
       "      <th>fam_status</th>\n",
       "      <th>divorced/widowed</th>\n",
       "      <th>living with parents and siblings</th>\n",
       "      <th>married</th>\n",
       "      <th>single</th>\n",
       "    </tr>\n",
       "    <tr>\n",
       "      <th>spending_flag</th>\n",
       "      <th></th>\n",
       "      <th></th>\n",
       "      <th></th>\n",
       "      <th></th>\n",
       "    </tr>\n",
       "  </thead>\n",
       "  <tbody>\n",
       "    <tr>\n",
       "      <th>High Spender</th>\n",
       "      <td>52698</td>\n",
       "      <td>29389</td>\n",
       "      <td>451324</td>\n",
       "      <td>100834</td>\n",
       "    </tr>\n",
       "    <tr>\n",
       "      <th>Low Spender</th>\n",
       "      <td>2719114</td>\n",
       "      <td>1521214</td>\n",
       "      <td>22305429</td>\n",
       "      <td>5224857</td>\n",
       "    </tr>\n",
       "  </tbody>\n",
       "</table>\n",
       "</div>"
      ],
      "text/plain": [
       "fam_status     divorced/widowed  living with parents and siblings   married  \\\n",
       "spending_flag                                                                 \n",
       "High Spender              52698                             29389    451324   \n",
       "Low Spender             2719114                           1521214  22305429   \n",
       "\n",
       "fam_status      single  \n",
       "spending_flag           \n",
       "High Spender    100834  \n",
       "Low Spender    5224857  "
      ]
     },
     "execution_count": 65,
     "metadata": {},
     "output_type": "execute_result"
    }
   ],
   "source": [
    "fam_spend_cross"
   ]
  },
  {
   "cell_type": "code",
   "execution_count": 66,
   "id": "9d706928",
   "metadata": {},
   "outputs": [],
   "source": [
    "fam_spend_cross.to_clipboard()"
   ]
  },
  {
   "cell_type": "code",
   "execution_count": 71,
   "id": "e17bd301",
   "metadata": {},
   "outputs": [],
   "source": [
    "# Cross family status and frequency flag\n",
    "\n",
    "fam_freq_cross = pd.crosstab(df['frequency_flag'], df['fam_status'], dropna = False)"
   ]
  },
  {
   "cell_type": "code",
   "execution_count": 72,
   "id": "db1b9ec1",
   "metadata": {},
   "outputs": [
    {
     "data": {
      "text/html": [
       "<div>\n",
       "<style scoped>\n",
       "    .dataframe tbody tr th:only-of-type {\n",
       "        vertical-align: middle;\n",
       "    }\n",
       "\n",
       "    .dataframe tbody tr th {\n",
       "        vertical-align: top;\n",
       "    }\n",
       "\n",
       "    .dataframe thead th {\n",
       "        text-align: right;\n",
       "    }\n",
       "</style>\n",
       "<table border=\"1\" class=\"dataframe\">\n",
       "  <thead>\n",
       "    <tr style=\"text-align: right;\">\n",
       "      <th>fam_status</th>\n",
       "      <th>divorced/widowed</th>\n",
       "      <th>living with parents and siblings</th>\n",
       "      <th>married</th>\n",
       "      <th>single</th>\n",
       "    </tr>\n",
       "    <tr>\n",
       "      <th>frequency_flag</th>\n",
       "      <th></th>\n",
       "      <th></th>\n",
       "      <th></th>\n",
       "      <th></th>\n",
       "    </tr>\n",
       "  </thead>\n",
       "  <tbody>\n",
       "    <tr>\n",
       "      <th>Frequent Customer</th>\n",
       "      <td>1852101</td>\n",
       "      <td>1047100</td>\n",
       "      <td>15137381</td>\n",
       "      <td>3523271</td>\n",
       "    </tr>\n",
       "    <tr>\n",
       "      <th>Non Frequent Customer</th>\n",
       "      <td>306903</td>\n",
       "      <td>175019</td>\n",
       "      <td>2564637</td>\n",
       "      <td>589878</td>\n",
       "    </tr>\n",
       "    <tr>\n",
       "      <th>Regular Customer</th>\n",
       "      <td>612808</td>\n",
       "      <td>328484</td>\n",
       "      <td>5054730</td>\n",
       "      <td>1212542</td>\n",
       "    </tr>\n",
       "  </tbody>\n",
       "</table>\n",
       "</div>"
      ],
      "text/plain": [
       "fam_status             divorced/widowed  living with parents and siblings  \\\n",
       "frequency_flag                                                              \n",
       "Frequent Customer               1852101                           1047100   \n",
       "Non Frequent Customer            306903                            175019   \n",
       "Regular Customer                 612808                            328484   \n",
       "\n",
       "fam_status              married   single  \n",
       "frequency_flag                            \n",
       "Frequent Customer      15137381  3523271  \n",
       "Non Frequent Customer   2564637   589878  \n",
       "Regular Customer        5054730  1212542  "
      ]
     },
     "execution_count": 72,
     "metadata": {},
     "output_type": "execute_result"
    }
   ],
   "source": [
    "fam_freq_cross"
   ]
  },
  {
   "cell_type": "code",
   "execution_count": 73,
   "id": "47bb3eab",
   "metadata": {},
   "outputs": [],
   "source": [
    "fam_freq_cross.to_clipboard()"
   ]
  }
 ],
 "metadata": {
  "kernelspec": {
   "display_name": "Python 3 (ipykernel)",
   "language": "python",
   "name": "python3"
  },
  "language_info": {
   "codemirror_mode": {
    "name": "ipython",
    "version": 3
   },
   "file_extension": ".py",
   "mimetype": "text/x-python",
   "name": "python",
   "nbconvert_exporter": "python",
   "pygments_lexer": "ipython3",
   "version": "3.9.12"
  }
 },
 "nbformat": 4,
 "nbformat_minor": 5
}
