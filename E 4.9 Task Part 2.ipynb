{
 "cells": [
  {
   "cell_type": "markdown",
   "id": "8a5d1fdd",
   "metadata": {},
   "source": [
    "# Contents\n",
    "\n",
    "- library import\n",
    "- data frame import, merged df\n",
    "- visualizations "
   ]
  },
  {
   "cell_type": "markdown",
   "id": "50015f9b",
   "metadata": {},
   "source": [
    "# Import Libraries and Data Frame (Q1)\n"
   ]
  },
  {
   "cell_type": "code",
   "execution_count": 2,
   "id": "44276666",
   "metadata": {},
   "outputs": [],
   "source": [
    "# library imports\n",
    "\n",
    "import pandas as pd\n",
    "import numpy as np\n",
    "import os\n",
    "import matplotlib.pyplot as plt\n",
    "import seaborn as sns\n",
    "import scipy"
   ]
  },
  {
   "cell_type": "code",
   "execution_count": 3,
   "id": "188e4a83",
   "metadata": {},
   "outputs": [],
   "source": [
    "# create a string for the project folder path\n",
    "\n",
    "path = r'/Users/Ashley/Desktop/Adam/Achievement 4/Instacart Analysis'"
   ]
  },
  {
   "cell_type": "code",
   "execution_count": 4,
   "id": "0f15b1f1",
   "metadata": {},
   "outputs": [],
   "source": [
    "# import the new merged data frame\n",
    "\n",
    "df = pd.read_pickle(os.path.join(path, '02 Data', 'Prepared Data', 'orders_products_customers_merged.pkl'))"
   ]
  },
  {
   "cell_type": "code",
   "execution_count": 8,
   "id": "97e1eb7a",
   "metadata": {},
   "outputs": [],
   "source": [
    "# allow pandas to show all columns of the df\n",
    "\n",
    "pd.set_option('display.max_columns', None)"
   ]
  },
  {
   "cell_type": "code",
   "execution_count": 35,
   "id": "9fc96e4c",
   "metadata": {
    "scrolled": true
   },
   "outputs": [
    {
     "data": {
      "text/html": [
       "<div>\n",
       "<style scoped>\n",
       "    .dataframe tbody tr th:only-of-type {\n",
       "        vertical-align: middle;\n",
       "    }\n",
       "\n",
       "    .dataframe tbody tr th {\n",
       "        vertical-align: top;\n",
       "    }\n",
       "\n",
       "    .dataframe thead th {\n",
       "        text-align: right;\n",
       "    }\n",
       "</style>\n",
       "<table border=\"1\" class=\"dataframe\">\n",
       "  <thead>\n",
       "    <tr style=\"text-align: right;\">\n",
       "      <th></th>\n",
       "      <th>product_id</th>\n",
       "      <th>product_name</th>\n",
       "      <th>aisle_id</th>\n",
       "      <th>department_id</th>\n",
       "      <th>prices</th>\n",
       "      <th>order_id</th>\n",
       "      <th>user_id</th>\n",
       "      <th>order_number</th>\n",
       "      <th>orders_day_of_week</th>\n",
       "      <th>order_hour_of_day</th>\n",
       "      <th>days_since_prior_order</th>\n",
       "      <th>first_order</th>\n",
       "      <th>add_to_cart_order</th>\n",
       "      <th>reordered</th>\n",
       "      <th>_merge</th>\n",
       "      <th>busiest_day</th>\n",
       "      <th>price_range_loc</th>\n",
       "      <th>busiest_days</th>\n",
       "      <th>busiest_period_of_day</th>\n",
       "      <th>max_order</th>\n",
       "      <th>loyalty_flag</th>\n",
       "      <th>average_price</th>\n",
       "      <th>spending_flag</th>\n",
       "      <th>days_since_median</th>\n",
       "      <th>frequency_flag</th>\n",
       "      <th>first_name</th>\n",
       "      <th>last_name</th>\n",
       "      <th>gender</th>\n",
       "      <th>state</th>\n",
       "      <th>age</th>\n",
       "      <th>date_joined</th>\n",
       "      <th>num_of_dependants</th>\n",
       "      <th>fam_status</th>\n",
       "      <th>income</th>\n",
       "    </tr>\n",
       "  </thead>\n",
       "  <tbody>\n",
       "    <tr>\n",
       "      <th>0</th>\n",
       "      <td>1</td>\n",
       "      <td>Chocolate Sandwich Cookies</td>\n",
       "      <td>61</td>\n",
       "      <td>19</td>\n",
       "      <td>5.8</td>\n",
       "      <td>3139998</td>\n",
       "      <td>138</td>\n",
       "      <td>28</td>\n",
       "      <td>6</td>\n",
       "      <td>11</td>\n",
       "      <td>3.0</td>\n",
       "      <td>False</td>\n",
       "      <td>5</td>\n",
       "      <td>0</td>\n",
       "      <td>both</td>\n",
       "      <td>Regularly Busy</td>\n",
       "      <td>Mid Range Product</td>\n",
       "      <td>Regular Days</td>\n",
       "      <td>Most Orders</td>\n",
       "      <td>32</td>\n",
       "      <td>Regular Customer</td>\n",
       "      <td>6.935811</td>\n",
       "      <td>Low Spender</td>\n",
       "      <td>8.0</td>\n",
       "      <td>Frequent Customer</td>\n",
       "      <td>Charles</td>\n",
       "      <td>Cox</td>\n",
       "      <td>Male</td>\n",
       "      <td>Minnesota</td>\n",
       "      <td>81</td>\n",
       "      <td>8/1/2019</td>\n",
       "      <td>1</td>\n",
       "      <td>married</td>\n",
       "      <td>49620</td>\n",
       "    </tr>\n",
       "    <tr>\n",
       "      <th>1</th>\n",
       "      <td>1</td>\n",
       "      <td>Chocolate Sandwich Cookies</td>\n",
       "      <td>61</td>\n",
       "      <td>19</td>\n",
       "      <td>5.8</td>\n",
       "      <td>1977647</td>\n",
       "      <td>138</td>\n",
       "      <td>30</td>\n",
       "      <td>6</td>\n",
       "      <td>17</td>\n",
       "      <td>20.0</td>\n",
       "      <td>False</td>\n",
       "      <td>1</td>\n",
       "      <td>1</td>\n",
       "      <td>both</td>\n",
       "      <td>Regularly Busy</td>\n",
       "      <td>Mid Range Product</td>\n",
       "      <td>Regular Days</td>\n",
       "      <td>Average Orders</td>\n",
       "      <td>32</td>\n",
       "      <td>Regular Customer</td>\n",
       "      <td>6.935811</td>\n",
       "      <td>Low Spender</td>\n",
       "      <td>8.0</td>\n",
       "      <td>Frequent Customer</td>\n",
       "      <td>Charles</td>\n",
       "      <td>Cox</td>\n",
       "      <td>Male</td>\n",
       "      <td>Minnesota</td>\n",
       "      <td>81</td>\n",
       "      <td>8/1/2019</td>\n",
       "      <td>1</td>\n",
       "      <td>married</td>\n",
       "      <td>49620</td>\n",
       "    </tr>\n",
       "    <tr>\n",
       "      <th>2</th>\n",
       "      <td>907</td>\n",
       "      <td>Premium Sliced Bacon</td>\n",
       "      <td>106</td>\n",
       "      <td>12</td>\n",
       "      <td>20.0</td>\n",
       "      <td>3160996</td>\n",
       "      <td>138</td>\n",
       "      <td>1</td>\n",
       "      <td>5</td>\n",
       "      <td>13</td>\n",
       "      <td>NaN</td>\n",
       "      <td>True</td>\n",
       "      <td>4</td>\n",
       "      <td>0</td>\n",
       "      <td>both</td>\n",
       "      <td>Regularly Busy</td>\n",
       "      <td>High Range Product</td>\n",
       "      <td>Regular Days</td>\n",
       "      <td>Most Orders</td>\n",
       "      <td>32</td>\n",
       "      <td>Regular Customer</td>\n",
       "      <td>6.935811</td>\n",
       "      <td>Low Spender</td>\n",
       "      <td>8.0</td>\n",
       "      <td>Frequent Customer</td>\n",
       "      <td>Charles</td>\n",
       "      <td>Cox</td>\n",
       "      <td>Male</td>\n",
       "      <td>Minnesota</td>\n",
       "      <td>81</td>\n",
       "      <td>8/1/2019</td>\n",
       "      <td>1</td>\n",
       "      <td>married</td>\n",
       "      <td>49620</td>\n",
       "    </tr>\n",
       "    <tr>\n",
       "      <th>3</th>\n",
       "      <td>907</td>\n",
       "      <td>Premium Sliced Bacon</td>\n",
       "      <td>106</td>\n",
       "      <td>12</td>\n",
       "      <td>20.0</td>\n",
       "      <td>2254091</td>\n",
       "      <td>138</td>\n",
       "      <td>10</td>\n",
       "      <td>5</td>\n",
       "      <td>14</td>\n",
       "      <td>6.0</td>\n",
       "      <td>False</td>\n",
       "      <td>1</td>\n",
       "      <td>1</td>\n",
       "      <td>both</td>\n",
       "      <td>Regularly Busy</td>\n",
       "      <td>High Range Product</td>\n",
       "      <td>Regular Days</td>\n",
       "      <td>Most Orders</td>\n",
       "      <td>32</td>\n",
       "      <td>Regular Customer</td>\n",
       "      <td>6.935811</td>\n",
       "      <td>Low Spender</td>\n",
       "      <td>8.0</td>\n",
       "      <td>Frequent Customer</td>\n",
       "      <td>Charles</td>\n",
       "      <td>Cox</td>\n",
       "      <td>Male</td>\n",
       "      <td>Minnesota</td>\n",
       "      <td>81</td>\n",
       "      <td>8/1/2019</td>\n",
       "      <td>1</td>\n",
       "      <td>married</td>\n",
       "      <td>49620</td>\n",
       "    </tr>\n",
       "    <tr>\n",
       "      <th>4</th>\n",
       "      <td>1000</td>\n",
       "      <td>Apricots</td>\n",
       "      <td>18</td>\n",
       "      <td>10</td>\n",
       "      <td>12.9</td>\n",
       "      <td>505689</td>\n",
       "      <td>138</td>\n",
       "      <td>9</td>\n",
       "      <td>6</td>\n",
       "      <td>12</td>\n",
       "      <td>7.0</td>\n",
       "      <td>False</td>\n",
       "      <td>5</td>\n",
       "      <td>0</td>\n",
       "      <td>both</td>\n",
       "      <td>Regularly Busy</td>\n",
       "      <td>Mid Range Product</td>\n",
       "      <td>Regular Days</td>\n",
       "      <td>Most Orders</td>\n",
       "      <td>32</td>\n",
       "      <td>Regular Customer</td>\n",
       "      <td>6.935811</td>\n",
       "      <td>Low Spender</td>\n",
       "      <td>8.0</td>\n",
       "      <td>Frequent Customer</td>\n",
       "      <td>Charles</td>\n",
       "      <td>Cox</td>\n",
       "      <td>Male</td>\n",
       "      <td>Minnesota</td>\n",
       "      <td>81</td>\n",
       "      <td>8/1/2019</td>\n",
       "      <td>1</td>\n",
       "      <td>married</td>\n",
       "      <td>49620</td>\n",
       "    </tr>\n",
       "  </tbody>\n",
       "</table>\n",
       "</div>"
      ],
      "text/plain": [
       "   product_id                product_name  aisle_id  department_id  prices  \\\n",
       "0           1  Chocolate Sandwich Cookies        61             19     5.8   \n",
       "1           1  Chocolate Sandwich Cookies        61             19     5.8   \n",
       "2         907        Premium Sliced Bacon       106             12    20.0   \n",
       "3         907        Premium Sliced Bacon       106             12    20.0   \n",
       "4        1000                    Apricots        18             10    12.9   \n",
       "\n",
       "   order_id user_id  order_number  orders_day_of_week  order_hour_of_day  \\\n",
       "0   3139998     138            28                   6                 11   \n",
       "1   1977647     138            30                   6                 17   \n",
       "2   3160996     138             1                   5                 13   \n",
       "3   2254091     138            10                   5                 14   \n",
       "4    505689     138             9                   6                 12   \n",
       "\n",
       "   days_since_prior_order  first_order  add_to_cart_order  reordered _merge  \\\n",
       "0                     3.0        False                  5          0   both   \n",
       "1                    20.0        False                  1          1   both   \n",
       "2                     NaN         True                  4          0   both   \n",
       "3                     6.0        False                  1          1   both   \n",
       "4                     7.0        False                  5          0   both   \n",
       "\n",
       "      busiest_day     price_range_loc  busiest_days busiest_period_of_day  \\\n",
       "0  Regularly Busy   Mid Range Product  Regular Days           Most Orders   \n",
       "1  Regularly Busy   Mid Range Product  Regular Days        Average Orders   \n",
       "2  Regularly Busy  High Range Product  Regular Days           Most Orders   \n",
       "3  Regularly Busy  High Range Product  Regular Days           Most Orders   \n",
       "4  Regularly Busy   Mid Range Product  Regular Days           Most Orders   \n",
       "\n",
       "   max_order      loyalty_flag  average_price spending_flag  \\\n",
       "0         32  Regular Customer       6.935811   Low Spender   \n",
       "1         32  Regular Customer       6.935811   Low Spender   \n",
       "2         32  Regular Customer       6.935811   Low Spender   \n",
       "3         32  Regular Customer       6.935811   Low Spender   \n",
       "4         32  Regular Customer       6.935811   Low Spender   \n",
       "\n",
       "   days_since_median     frequency_flag first_name last_name gender  \\\n",
       "0                8.0  Frequent Customer    Charles       Cox   Male   \n",
       "1                8.0  Frequent Customer    Charles       Cox   Male   \n",
       "2                8.0  Frequent Customer    Charles       Cox   Male   \n",
       "3                8.0  Frequent Customer    Charles       Cox   Male   \n",
       "4                8.0  Frequent Customer    Charles       Cox   Male   \n",
       "\n",
       "       state  age date_joined  num_of_dependants fam_status  income  \n",
       "0  Minnesota   81    8/1/2019                  1    married   49620  \n",
       "1  Minnesota   81    8/1/2019                  1    married   49620  \n",
       "2  Minnesota   81    8/1/2019                  1    married   49620  \n",
       "3  Minnesota   81    8/1/2019                  1    married   49620  \n",
       "4  Minnesota   81    8/1/2019                  1    married   49620  "
      ]
     },
     "execution_count": 35,
     "metadata": {},
     "output_type": "execute_result"
    }
   ],
   "source": [
    "# check the imported file\n",
    "\n",
    "df.head()"
   ]
  },
  {
   "cell_type": "markdown",
   "id": "22cdfc3b",
   "metadata": {},
   "source": [
    "## Move the exercise steps into this note book (Q2)"
   ]
  },
  {
   "cell_type": "code",
   "execution_count": 6,
   "id": "b3ba5f86",
   "metadata": {},
   "outputs": [
    {
     "data": {
      "image/png": "[encoded data removed]",
      "text/plain": [
       "<Figure size 432x288 with 1 Axes>"
      ]
     },
     "metadata": {
      "needs_background": "light"
     },
     "output_type": "display_data"
    }
   ],
   "source": [
    "# create a bar chart showing orders by day of the week sorted by day of week\n",
    "\n",
    "bar_orders_dow = df['orders_day_of_week'].value_counts().sort_index().plot.bar()"
   ]
  },
  {
   "cell_type": "code",
   "execution_count": 5,
   "id": "aa465f81",
   "metadata": {},
   "outputs": [],
   "source": [
    "# drop large prices from the observation\n",
    "\n",
    "df.loc[df['prices'] >100, 'prices'] =np.nan"
   ]
  },
  {
   "cell_type": "code",
   "execution_count": 6,
   "id": "ddb2b33c",
   "metadata": {},
   "outputs": [
    {
     "data": {
      "text/plain": [
       "25.0"
      ]
     },
     "execution_count": 6,
     "metadata": {},
     "output_type": "execute_result"
    }
   ],
   "source": [
    "# ensure max value of prices is now in line\n",
    "\n",
    "df['prices'].max()"
   ]
  },
  {
   "cell_type": "code",
   "execution_count": 9,
   "id": "48672a15",
   "metadata": {},
   "outputs": [
    {
     "data": {
      "image/png": "[encoded data removed]",
      "text/plain": [
       "<Figure size 432x288 with 1 Axes>"
      ]
     },
     "metadata": {
      "needs_background": "light"
     },
     "output_type": "display_data"
    }
   ],
   "source": [
    "# create a histogram of the prices column\n",
    "\n",
    "hist_prices = df['prices'].plot.hist(bins = 25)"
   ]
  },
  {
   "cell_type": "code",
   "execution_count": 11,
   "id": "7a5bccee",
   "metadata": {},
   "outputs": [
    {
     "data": {
      "image/png": "[encoded data removed]",
      "text/plain": [
       "<Figure size 432x288 with 1 Axes>"
      ]
     },
     "metadata": {
      "needs_background": "light"
     },
     "output_type": "display_data"
    }
   ],
   "source": [
    "# create a scatter plot with prices on both the x and y axis\n",
    "\n",
    "scatter_prices = sns.scatterplot(x = 'prices', y = 'prices', data = df)"
   ]
  },
  {
   "cell_type": "code",
   "execution_count": 19,
   "id": "ecc7a292",
   "metadata": {},
   "outputs": [],
   "source": [
    "np.random.seed(4)"
   ]
  },
  {
   "cell_type": "code",
   "execution_count": 20,
   "id": "0b9a7a79",
   "metadata": {},
   "outputs": [],
   "source": [
    "# create a 70/30 sample set\n",
    "\n",
    "dev = np.random.rand(len(df)) <= 0.7"
   ]
  },
  {
   "cell_type": "code",
   "execution_count": 21,
   "id": "c556f86f",
   "metadata": {},
   "outputs": [],
   "source": [
    "# store 70 percent of the sample as 'big'\n",
    "\n",
    "big = df[dev]"
   ]
  },
  {
   "cell_type": "code",
   "execution_count": 22,
   "id": "74672c68",
   "metadata": {},
   "outputs": [],
   "source": [
    "# store 30 percent of the sample as 'small'\n",
    "\n",
    "small = df[~dev]"
   ]
  },
  {
   "cell_type": "code",
   "execution_count": 15,
   "id": "0de37df1",
   "metadata": {},
   "outputs": [
    {
     "data": {
      "text/plain": [
       "32404859"
      ]
     },
     "execution_count": 15,
     "metadata": {},
     "output_type": "execute_result"
    }
   ],
   "source": [
    "# check the length of the original data frame\n",
    "\n",
    "len(df)"
   ]
  },
  {
   "cell_type": "code",
   "execution_count": 16,
   "id": "1aec2079",
   "metadata": {},
   "outputs": [
    {
     "data": {
      "text/plain": [
       "32404859"
      ]
     },
     "execution_count": 16,
     "metadata": {},
     "output_type": "execute_result"
    }
   ],
   "source": [
    "# verify the sample set adds up to the same size\n",
    "\n",
    "len(big) + len(small)"
   ]
  },
  {
   "cell_type": "code",
   "execution_count": 23,
   "id": "63ae418a",
   "metadata": {},
   "outputs": [],
   "source": [
    "# create a new data frame with just the orders day of week and prices columns from 'small'\n",
    "\n",
    "df_small = small[['orders_day_of_week', 'prices']]"
   ]
  },
  {
   "cell_type": "code",
   "execution_count": 24,
   "id": "83670e20",
   "metadata": {},
   "outputs": [
    {
     "data": {
      "image/png": "[encoded data removed]",
      "text/plain": [
       "<Figure size 432x288 with 1 Axes>"
      ]
     },
     "metadata": {
      "needs_background": "light"
     },
     "output_type": "display_data"
    }
   ],
   "source": [
    "# create a line chart based on the small sample\n",
    "\n",
    "line_prices_ordersdow = sns.lineplot(data = df_small, x = 'orders_day_of_week', y ='prices')"
   ]
  },
  {
   "cell_type": "markdown",
   "id": "85f4d45d",
   "metadata": {},
   "source": [
    "## Create a histogram for order hour of day (Q3)"
   ]
  },
  {
   "cell_type": "code",
   "execution_count": 31,
   "id": "391f924e",
   "metadata": {},
   "outputs": [
    {
     "data": {
      "image/png": "[encoded data removed]",
      "text/plain": [
       "<Figure size 432x288 with 1 Axes>"
      ]
     },
     "metadata": {
      "needs_background": "light"
     },
     "output_type": "display_data"
    }
   ],
   "source": [
    "hist_orders_HOD = df['order_hour_of_day'].plot.hist(bins = 24)"
   ]
  },
  {
   "cell_type": "markdown",
   "id": "69ced580",
   "metadata": {},
   "source": [
    "The histogram shows that orders are low during the first few hours of the day (midnight through about 6 AM). The frequency rises rapidly then until it plateaus around 10 AM and stays at the same point until roughly 3 PM. From this time on it slowly decreases. "
   ]
  },
  {
   "cell_type": "markdown",
   "id": "ef105ddd",
   "metadata": {},
   "source": [
    "## Create a bar chart for the loyalty flag (Q4)"
   ]
  },
  {
   "cell_type": "code",
   "execution_count": 33,
   "id": "8657222c",
   "metadata": {},
   "outputs": [
    {
     "data": {
      "image/png": "[encoded data removed]",
      "text/plain": [
       "<Figure size 432x288 with 1 Axes>"
      ]
     },
     "metadata": {
      "needs_background": "light"
     },
     "output_type": "display_data"
    }
   ],
   "source": [
    "bar_loyalty = df['loyalty_flag'].value_counts().plot.bar(color = ['red', 'blue', 'yellow'])"
   ]
  },
  {
   "cell_type": "markdown",
   "id": "e690b3f9",
   "metadata": {},
   "source": [
    "## Create a line chart showing order hour of day and prices (Q5)"
   ]
  },
  {
   "cell_type": "code",
   "execution_count": 38,
   "id": "fde5e9b1",
   "metadata": {},
   "outputs": [],
   "source": [
    "# 70/30 sample already created, create a data frame df_small_2 with just prices and order hour of day\n",
    "\n",
    "df_small_2 = small[['order_hour_of_day', 'prices']]"
   ]
  },
  {
   "cell_type": "code",
   "execution_count": 39,
   "id": "9b2e6b76",
   "metadata": {},
   "outputs": [
    {
     "data": {
      "image/png": "[encoded data removed]",
      "text/plain": [
       "<Figure size 432x288 with 1 Axes>"
      ]
     },
     "metadata": {
      "needs_background": "light"
     },
     "output_type": "display_data"
    }
   ],
   "source": [
    "line_prices_ordersHOD = sns.lineplot(data = df_small_2, x = 'order_hour_of_day', y = 'prices')"
   ]
  },
  {
   "cell_type": "markdown",
   "id": "03af3de1",
   "metadata": {},
   "source": [
    "## Create a line chart showing the relationship between age and number of dependants (Q6)"
   ]
  },
  {
   "cell_type": "code",
   "execution_count": 40,
   "id": "6862d010",
   "metadata": {},
   "outputs": [],
   "source": [
    "# 70/30 sample already created, create a data frame df_small_3 with just num of dependants and age\n",
    "\n",
    "df_small_3 = small[['num_of_dependants', 'age']]"
   ]
  },
  {
   "cell_type": "code",
   "execution_count": 42,
   "id": "24b89f1c",
   "metadata": {},
   "outputs": [
    {
     "data": {
      "image/png": "[encoded data removed]",
      "text/plain": [
       "<Figure size 432x288 with 1 Axes>"
      ]
     },
     "metadata": {
      "needs_background": "light"
     },
     "output_type": "display_data"
    }
   ],
   "source": [
    "line_age_dependants = sns.lineplot(data = df_small_3, x = 'age', y = 'num_of_dependants')"
   ]
  },
  {
   "cell_type": "markdown",
   "id": "e3673c4d",
   "metadata": {},
   "source": [
    "The chart shows that there is not a correlation between age and number of dependants."
   ]
  },
  {
   "cell_type": "markdown",
   "id": "734f652d",
   "metadata": {},
   "source": [
    "## Create a scatterplot showing age and income (Q7)\n"
   ]
  },
  {
   "cell_type": "code",
   "execution_count": 43,
   "id": "7e708b93",
   "metadata": {},
   "outputs": [
    {
     "data": {
      "image/png": "[encoded data removed]",
      "text/plain": [
       "<Figure size 432x288 with 1 Axes>"
      ]
     },
     "metadata": {
      "needs_background": "light"
     },
     "output_type": "display_data"
    }
   ],
   "source": [
    "scatter_spending_power = sns.scatterplot(x = 'income', y = 'age', data = df)"
   ]
  },
  {
   "cell_type": "markdown",
   "id": "42fe7a70",
   "metadata": {},
   "source": [
    "The chart shows that most people, regardless of ageare making less than 200K. Some higher incomes are only represented in older populations. I.E., nobody under 40 is making more than 400K. "
   ]
  },
  {
   "cell_type": "markdown",
   "id": "55c18a26",
   "metadata": {},
   "source": [
    "## Export visualizations (Q8)"
   ]
  },
  {
   "cell_type": "code",
   "execution_count": 44,
   "id": "f1abdd5c",
   "metadata": {},
   "outputs": [],
   "source": [
    "hist_orders_HOD.figure.savefig(os.path.join(path, '04 Analysis', 'Visuals', 'hist_orders_HOD.png'))"
   ]
  },
  {
   "cell_type": "code",
   "execution_count": 45,
   "id": "4d3b687c",
   "metadata": {},
   "outputs": [],
   "source": [
    "bar_loyalty.figure.savefig(os.path.join(path, '04 Analysis', 'Visuals', 'bar_loyalty.png'))"
   ]
  },
  {
   "cell_type": "code",
   "execution_count": 46,
   "id": "6c38a155",
   "metadata": {},
   "outputs": [],
   "source": [
    "line_prices_ordersHOD.figure.savefig(os.path.join(path, '04 Analysis', 'Visuals', 'line_prices_ordersHOD.png'))"
   ]
  },
  {
   "cell_type": "code",
   "execution_count": 47,
   "id": "e467bc43",
   "metadata": {},
   "outputs": [],
   "source": [
    "line_age_dependants.figure.savefig(os.path.join(path, '04 Analysis', 'Visuals', 'line_age_dependants.png'))"
   ]
  },
  {
   "cell_type": "code",
   "execution_count": 48,
   "id": "13cb1b5b",
   "metadata": {},
   "outputs": [],
   "source": [
    "scatter_spending_power.figure.savefig(os.path.join(path, '04 Analysis', 'Visuals', 'scatter_spending_power.png'))"
   ]
  },
  {
   "cell_type": "code",
   "execution_count": 9,
   "id": "25b90726",
   "metadata": {},
   "outputs": [
    {
     "data": {
      "text/html": [
       "<div>\n",
       "<style scoped>\n",
       "    .dataframe tbody tr th:only-of-type {\n",
       "        vertical-align: middle;\n",
       "    }\n",
       "\n",
       "    .dataframe tbody tr th {\n",
       "        vertical-align: top;\n",
       "    }\n",
       "\n",
       "    .dataframe thead th {\n",
       "        text-align: right;\n",
       "    }\n",
       "</style>\n",
       "<table border=\"1\" class=\"dataframe\">\n",
       "  <thead>\n",
       "    <tr style=\"text-align: right;\">\n",
       "      <th></th>\n",
       "      <th>product_id</th>\n",
       "      <th>product_name</th>\n",
       "      <th>aisle_id</th>\n",
       "      <th>department_id</th>\n",
       "      <th>prices</th>\n",
       "      <th>order_id</th>\n",
       "      <th>user_id</th>\n",
       "      <th>order_number</th>\n",
       "      <th>orders_day_of_week</th>\n",
       "      <th>order_hour_of_day</th>\n",
       "      <th>days_since_prior_order</th>\n",
       "      <th>first_order</th>\n",
       "      <th>add_to_cart_order</th>\n",
       "      <th>reordered</th>\n",
       "      <th>_merge</th>\n",
       "      <th>busiest_day</th>\n",
       "      <th>price_range_loc</th>\n",
       "      <th>busiest_days</th>\n",
       "      <th>busiest_period_of_day</th>\n",
       "      <th>max_order</th>\n",
       "      <th>loyalty_flag</th>\n",
       "      <th>average_price</th>\n",
       "      <th>spending_flag</th>\n",
       "      <th>days_since_median</th>\n",
       "      <th>frequency_flag</th>\n",
       "      <th>first_name</th>\n",
       "      <th>last_name</th>\n",
       "      <th>gender</th>\n",
       "      <th>state</th>\n",
       "      <th>age</th>\n",
       "      <th>date_joined</th>\n",
       "      <th>num_of_dependants</th>\n",
       "      <th>fam_status</th>\n",
       "      <th>income</th>\n",
       "    </tr>\n",
       "  </thead>\n",
       "  <tbody>\n",
       "    <tr>\n",
       "      <th>0</th>\n",
       "      <td>1</td>\n",
       "      <td>Chocolate Sandwich Cookies</td>\n",
       "      <td>61</td>\n",
       "      <td>19</td>\n",
       "      <td>5.8</td>\n",
       "      <td>3139998</td>\n",
       "      <td>138</td>\n",
       "      <td>28</td>\n",
       "      <td>6</td>\n",
       "      <td>11</td>\n",
       "      <td>3.0</td>\n",
       "      <td>False</td>\n",
       "      <td>5</td>\n",
       "      <td>0</td>\n",
       "      <td>both</td>\n",
       "      <td>Regularly Busy</td>\n",
       "      <td>Mid Range Product</td>\n",
       "      <td>Regular Days</td>\n",
       "      <td>Most Orders</td>\n",
       "      <td>32</td>\n",
       "      <td>Regular Customer</td>\n",
       "      <td>6.935811</td>\n",
       "      <td>Low Spender</td>\n",
       "      <td>8.0</td>\n",
       "      <td>Frequent Customer</td>\n",
       "      <td>Charles</td>\n",
       "      <td>Cox</td>\n",
       "      <td>Male</td>\n",
       "      <td>Minnesota</td>\n",
       "      <td>81</td>\n",
       "      <td>8/1/2019</td>\n",
       "      <td>1</td>\n",
       "      <td>married</td>\n",
       "      <td>49620</td>\n",
       "    </tr>\n",
       "    <tr>\n",
       "      <th>1</th>\n",
       "      <td>1</td>\n",
       "      <td>Chocolate Sandwich Cookies</td>\n",
       "      <td>61</td>\n",
       "      <td>19</td>\n",
       "      <td>5.8</td>\n",
       "      <td>1977647</td>\n",
       "      <td>138</td>\n",
       "      <td>30</td>\n",
       "      <td>6</td>\n",
       "      <td>17</td>\n",
       "      <td>20.0</td>\n",
       "      <td>False</td>\n",
       "      <td>1</td>\n",
       "      <td>1</td>\n",
       "      <td>both</td>\n",
       "      <td>Regularly Busy</td>\n",
       "      <td>Mid Range Product</td>\n",
       "      <td>Regular Days</td>\n",
       "      <td>Average Orders</td>\n",
       "      <td>32</td>\n",
       "      <td>Regular Customer</td>\n",
       "      <td>6.935811</td>\n",
       "      <td>Low Spender</td>\n",
       "      <td>8.0</td>\n",
       "      <td>Frequent Customer</td>\n",
       "      <td>Charles</td>\n",
       "      <td>Cox</td>\n",
       "      <td>Male</td>\n",
       "      <td>Minnesota</td>\n",
       "      <td>81</td>\n",
       "      <td>8/1/2019</td>\n",
       "      <td>1</td>\n",
       "      <td>married</td>\n",
       "      <td>49620</td>\n",
       "    </tr>\n",
       "    <tr>\n",
       "      <th>2</th>\n",
       "      <td>907</td>\n",
       "      <td>Premium Sliced Bacon</td>\n",
       "      <td>106</td>\n",
       "      <td>12</td>\n",
       "      <td>20.0</td>\n",
       "      <td>3160996</td>\n",
       "      <td>138</td>\n",
       "      <td>1</td>\n",
       "      <td>5</td>\n",
       "      <td>13</td>\n",
       "      <td>NaN</td>\n",
       "      <td>True</td>\n",
       "      <td>4</td>\n",
       "      <td>0</td>\n",
       "      <td>both</td>\n",
       "      <td>Regularly Busy</td>\n",
       "      <td>High Range Product</td>\n",
       "      <td>Regular Days</td>\n",
       "      <td>Most Orders</td>\n",
       "      <td>32</td>\n",
       "      <td>Regular Customer</td>\n",
       "      <td>6.935811</td>\n",
       "      <td>Low Spender</td>\n",
       "      <td>8.0</td>\n",
       "      <td>Frequent Customer</td>\n",
       "      <td>Charles</td>\n",
       "      <td>Cox</td>\n",
       "      <td>Male</td>\n",
       "      <td>Minnesota</td>\n",
       "      <td>81</td>\n",
       "      <td>8/1/2019</td>\n",
       "      <td>1</td>\n",
       "      <td>married</td>\n",
       "      <td>49620</td>\n",
       "    </tr>\n",
       "    <tr>\n",
       "      <th>3</th>\n",
       "      <td>907</td>\n",
       "      <td>Premium Sliced Bacon</td>\n",
       "      <td>106</td>\n",
       "      <td>12</td>\n",
       "      <td>20.0</td>\n",
       "      <td>2254091</td>\n",
       "      <td>138</td>\n",
       "      <td>10</td>\n",
       "      <td>5</td>\n",
       "      <td>14</td>\n",
       "      <td>6.0</td>\n",
       "      <td>False</td>\n",
       "      <td>1</td>\n",
       "      <td>1</td>\n",
       "      <td>both</td>\n",
       "      <td>Regularly Busy</td>\n",
       "      <td>High Range Product</td>\n",
       "      <td>Regular Days</td>\n",
       "      <td>Most Orders</td>\n",
       "      <td>32</td>\n",
       "      <td>Regular Customer</td>\n",
       "      <td>6.935811</td>\n",
       "      <td>Low Spender</td>\n",
       "      <td>8.0</td>\n",
       "      <td>Frequent Customer</td>\n",
       "      <td>Charles</td>\n",
       "      <td>Cox</td>\n",
       "      <td>Male</td>\n",
       "      <td>Minnesota</td>\n",
       "      <td>81</td>\n",
       "      <td>8/1/2019</td>\n",
       "      <td>1</td>\n",
       "      <td>married</td>\n",
       "      <td>49620</td>\n",
       "    </tr>\n",
       "    <tr>\n",
       "      <th>4</th>\n",
       "      <td>1000</td>\n",
       "      <td>Apricots</td>\n",
       "      <td>18</td>\n",
       "      <td>10</td>\n",
       "      <td>12.9</td>\n",
       "      <td>505689</td>\n",
       "      <td>138</td>\n",
       "      <td>9</td>\n",
       "      <td>6</td>\n",
       "      <td>12</td>\n",
       "      <td>7.0</td>\n",
       "      <td>False</td>\n",
       "      <td>5</td>\n",
       "      <td>0</td>\n",
       "      <td>both</td>\n",
       "      <td>Regularly Busy</td>\n",
       "      <td>Mid Range Product</td>\n",
       "      <td>Regular Days</td>\n",
       "      <td>Most Orders</td>\n",
       "      <td>32</td>\n",
       "      <td>Regular Customer</td>\n",
       "      <td>6.935811</td>\n",
       "      <td>Low Spender</td>\n",
       "      <td>8.0</td>\n",
       "      <td>Frequent Customer</td>\n",
       "      <td>Charles</td>\n",
       "      <td>Cox</td>\n",
       "      <td>Male</td>\n",
       "      <td>Minnesota</td>\n",
       "      <td>81</td>\n",
       "      <td>8/1/2019</td>\n",
       "      <td>1</td>\n",
       "      <td>married</td>\n",
       "      <td>49620</td>\n",
       "    </tr>\n",
       "  </tbody>\n",
       "</table>\n",
       "</div>"
      ],
      "text/plain": [
       "   product_id                product_name  aisle_id  department_id  prices  \\\n",
       "0           1  Chocolate Sandwich Cookies        61             19     5.8   \n",
       "1           1  Chocolate Sandwich Cookies        61             19     5.8   \n",
       "2         907        Premium Sliced Bacon       106             12    20.0   \n",
       "3         907        Premium Sliced Bacon       106             12    20.0   \n",
       "4        1000                    Apricots        18             10    12.9   \n",
       "\n",
       "   order_id user_id  order_number  orders_day_of_week  order_hour_of_day  \\\n",
       "0   3139998     138            28                   6                 11   \n",
       "1   1977647     138            30                   6                 17   \n",
       "2   3160996     138             1                   5                 13   \n",
       "3   2254091     138            10                   5                 14   \n",
       "4    505689     138             9                   6                 12   \n",
       "\n",
       "   days_since_prior_order  first_order  add_to_cart_order  reordered _merge  \\\n",
       "0                     3.0        False                  5          0   both   \n",
       "1                    20.0        False                  1          1   both   \n",
       "2                     NaN         True                  4          0   both   \n",
       "3                     6.0        False                  1          1   both   \n",
       "4                     7.0        False                  5          0   both   \n",
       "\n",
       "      busiest_day     price_range_loc  busiest_days busiest_period_of_day  \\\n",
       "0  Regularly Busy   Mid Range Product  Regular Days           Most Orders   \n",
       "1  Regularly Busy   Mid Range Product  Regular Days        Average Orders   \n",
       "2  Regularly Busy  High Range Product  Regular Days           Most Orders   \n",
       "3  Regularly Busy  High Range Product  Regular Days           Most Orders   \n",
       "4  Regularly Busy   Mid Range Product  Regular Days           Most Orders   \n",
       "\n",
       "   max_order      loyalty_flag  average_price spending_flag  \\\n",
       "0         32  Regular Customer       6.935811   Low Spender   \n",
       "1         32  Regular Customer       6.935811   Low Spender   \n",
       "2         32  Regular Customer       6.935811   Low Spender   \n",
       "3         32  Regular Customer       6.935811   Low Spender   \n",
       "4         32  Regular Customer       6.935811   Low Spender   \n",
       "\n",
       "   days_since_median     frequency_flag first_name last_name gender  \\\n",
       "0                8.0  Frequent Customer    Charles       Cox   Male   \n",
       "1                8.0  Frequent Customer    Charles       Cox   Male   \n",
       "2                8.0  Frequent Customer    Charles       Cox   Male   \n",
       "3                8.0  Frequent Customer    Charles       Cox   Male   \n",
       "4                8.0  Frequent Customer    Charles       Cox   Male   \n",
       "\n",
       "       state  age date_joined  num_of_dependants fam_status  income  \n",
       "0  Minnesota   81    8/1/2019                  1    married   49620  \n",
       "1  Minnesota   81    8/1/2019                  1    married   49620  \n",
       "2  Minnesota   81    8/1/2019                  1    married   49620  \n",
       "3  Minnesota   81    8/1/2019                  1    married   49620  \n",
       "4  Minnesota   81    8/1/2019                  1    married   49620  "
      ]
     },
     "execution_count": 9,
     "metadata": {},
     "output_type": "execute_result"
    }
   ],
   "source": [
    "df.head()"
   ]
  },
  {
   "cell_type": "code",
   "execution_count": null,
   "id": "a90d88f9",
   "metadata": {},
   "outputs": [],
   "source": [
    "df.to_pickle(os.path.join(path, '02 Data', 'Prepared Data', 'orders_products_customers_merged.pkl'))"
   ]
  },
  {
   "cell_type": "code",
   "execution_count": null,
   "id": "7c5f42a2",
   "metadata": {},
   "outputs": [],
   "source": []
  }
 ],
 "metadata": {
  "kernelspec": {
   "display_name": "Python 3 (ipykernel)",
   "language": "python",
   "name": "python3"
  },
  "language_info": {
   "codemirror_mode": {
    "name": "ipython",
    "version": 3
   },
   "file_extension": ".py",
   "mimetype": "text/x-python",
   "name": "python",
   "nbconvert_exporter": "python",
   "pygments_lexer": "ipython3",
   "version": "3.9.12"
  }
 },
 "nbformat": 4,
 "nbformat_minor": 5
}
